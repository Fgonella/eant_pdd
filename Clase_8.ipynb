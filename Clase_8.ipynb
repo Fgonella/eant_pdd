{
 "cells": [
  {
   "cell_type": "markdown",
   "id": "b792bb5d",
   "metadata": {},
   "source": [
    "# Clase 8 --> API"
   ]
  },
  {
   "cell_type": "markdown",
   "id": "c9e676d8",
   "metadata": {},
   "source": [
    "API --> openweather.org"
   ]
  },
  {
   "cell_type": "code",
   "execution_count": 19,
   "id": "2bb9e06c",
   "metadata": {},
   "outputs": [],
   "source": [
    "apikey = \"f6aebc1f999ab9b6a8685e0d60bd5373\""
   ]
  },
  {
   "cell_type": "code",
   "execution_count": 31,
   "id": "449c648f",
   "metadata": {},
   "outputs": [],
   "source": [
    "import requests \n",
    "import json\n",
    "from pprint import pprint as pp"
   ]
  },
  {
   "cell_type": "code",
   "execution_count": 115,
   "id": "227c3ad4",
   "metadata": {},
   "outputs": [],
   "source": [
    "ciudad = 'Ciudad de Buenos Aires, Argentina'\n",
    "url = f'http://api.openweathermap.org/data/2.5/weather?q={ciudad}&appid={apikey}'\n",
    "url_2= 'http://api.openweathermap.org/data/2.5/weather?'\n",
    "lenguaje = 'es'\n",
    "unidades = 'metric'"
   ]
  },
  {
   "cell_type": "code",
   "execution_count": 28,
   "id": "2f4fd9d5",
   "metadata": {},
   "outputs": [
    {
     "data": {
      "text/plain": [
       "{'coord': {'lon': -68.5364, 'lat': -31.5375},\n",
       " 'weather': [{'id': 800,\n",
       "   'main': 'Clear',\n",
       "   'description': 'clear sky',\n",
       "   'icon': '01d'}],\n",
       " 'base': 'stations',\n",
       " 'main': {'temp': 298.9,\n",
       "  'feels_like': 297.97,\n",
       "  'temp_min': 298.9,\n",
       "  'temp_max': 298.9,\n",
       "  'pressure': 1010,\n",
       "  'humidity': 17,\n",
       "  'sea_level': 1010,\n",
       "  'grnd_level': 939},\n",
       " 'visibility': 10000,\n",
       " 'wind': {'speed': 3.3, 'deg': 53, 'gust': 3.79},\n",
       " 'clouds': {'all': 0},\n",
       " 'dt': 1630272306,\n",
       " 'sys': {'country': 'AR', 'sunrise': 1630234447, 'sunset': 1630275380},\n",
       " 'timezone': -10800,\n",
       " 'id': 3837213,\n",
       " 'name': 'San Juan',\n",
       " 'cod': 200}"
      ]
     },
     "execution_count": 28,
     "metadata": {},
     "output_type": "execute_result"
    }
   ],
   "source": [
    "html = requests.get(url).text\n",
    "objeto = json.loads(html)\n",
    "objeto #Grado esta en Kelvin no en Celsius"
   ]
  },
  {
   "cell_type": "code",
   "execution_count": 36,
   "id": "86bd6d79",
   "metadata": {},
   "outputs": [
    {
     "name": "stdout",
     "output_type": "stream",
     "text": [
      "{'base': 'stations',\n",
      " 'clouds': {'all': 0},\n",
      " 'cod': 200,\n",
      " 'coord': {'lat': -31.5375, 'lon': -68.5364},\n",
      " 'dt': 1630272306,\n",
      " 'id': 3837213,\n",
      " 'main': {'feels_like': 297.97,\n",
      "          'grnd_level': 939,\n",
      "          'humidity': 17,\n",
      "          'pressure': 1010,\n",
      "          'sea_level': 1010,\n",
      "          'temp': 298.9,\n",
      "          'temp_max': 298.9,\n",
      "          'temp_min': 298.9},\n",
      " 'name': 'San Juan',\n",
      " 'sys': {'country': 'AR', 'sunrise': 1630234447, 'sunset': 1630275380},\n",
      " 'timezone': -10800,\n",
      " 'visibility': 10000,\n",
      " 'weather': [{'description': 'clear sky',\n",
      "              'icon': '01d',\n",
      "              'id': 800,\n",
      "              'main': 'Clear'}],\n",
      " 'wind': {'deg': 53, 'gust': 3.79, 'speed': 3.3}}\n"
     ]
    }
   ],
   "source": [
    "# Para verlo mas lindo\n",
    "pp(objeto)"
   ]
  },
  {
   "cell_type": "code",
   "execution_count": 116,
   "id": "80fd6f22",
   "metadata": {},
   "outputs": [
    {
     "name": "stdout",
     "output_type": "stream",
     "text": [
      "{'cod': '404', 'message': 'city not found'}\n"
     ]
    }
   ],
   "source": [
    "#Que hacemos con esta informacion, Agregr dos parametros\n",
    "\n",
    "html = requests.get(url_2, params={'q':ciudad,\n",
    "                         'appid': apikey,\n",
    "                        'lang':lenguaje,\n",
    "                        'units':unidades}).text\n",
    "\n",
    "objeto= json.loads(html)\n",
    "pp(objeto)\n"
   ]
  },
  {
   "cell_type": "code",
   "execution_count": 63,
   "id": "d34c40f9",
   "metadata": {},
   "outputs": [
    {
     "name": "stdout",
     "output_type": "stream",
     "text": [
      "Descripcion del clima: cielo claro\n",
      "Descripcion del clima: 23.65\n"
     ]
    }
   ],
   "source": [
    "print(f'Descripcion del clima: '+  objeto['weather'][0]['description'])\n",
    "print(f'Descripcion del clima: '+  str(objeto['main']['temp']))"
   ]
  },
  {
   "cell_type": "code",
   "execution_count": 64,
   "id": "ad75664f",
   "metadata": {},
   "outputs": [],
   "source": [
    "# Nuevo Ejericio "
   ]
  },
  {
   "cell_type": "code",
   "execution_count": 92,
   "id": "ef041f61",
   "metadata": {},
   "outputs": [
    {
     "data": {
      "text/plain": [
       "'Ciudad de Buenos Aires'"
      ]
     },
     "execution_count": 92,
     "metadata": {},
     "output_type": "execute_result"
    }
   ],
   "source": [
    "import csv\n",
    "\n",
    "archivo = open('../Data/sucursales_sol_360.csv',encoding='latin-1')\n",
    "archivo_csv = csv.reader(archivo, delimiter= ';',)\n",
    "\n",
    "ciudades = [linea[0] for linea in archivo_csv] \n",
    "ciudades[0]\n",
    "\n",
    "\n",
    "    "
   ]
  },
  {
   "cell_type": "code",
   "execution_count": 123,
   "id": "9d9d52b6",
   "metadata": {},
   "outputs": [
    {
     "name": "stdout",
     "output_type": "stream",
     "text": [
      "Ciudad: Ciudad de Buenos Aires\n",
      "No existe\n",
      "Ciudad: Merlo\n",
      "Descripcion del clima: cielo claro\n",
      "Descripcion del clima: 12.61\n",
      "Ciudad: Ushuaia\n",
      "Descripcion del clima: nubes dispersas\n",
      "Descripcion del clima: 2.81\n",
      "Ciudad: Villa General Belgrano\n",
      "Descripcion del clima: cielo claro\n",
      "Descripcion del clima: 19.32\n",
      "Ciudad: Ibera\n",
      "No existe\n",
      "Ciudad: Rosario\n",
      "Descripcion del clima: cielo claro\n",
      "Descripcion del clima: 20.66\n",
      "Ciudad: Puerto Madryn\n",
      "Descripcion del clima: nubes\n",
      "Descripcion del clima: 16.77\n",
      "Ciudad: San Martín de los Andes\n",
      "Descripcion del clima: nubes\n",
      "Descripcion del clima: 9.09\n",
      "Ciudad: Bariloche\n",
      "Descripcion del clima: lluvia ligera\n",
      "Descripcion del clima: 12.86\n",
      "Ciudad: San Juan\n",
      "Descripcion del clima: cielo claro\n",
      "Descripcion del clima: 23.65\n",
      "Ciudad: Tartagal\n",
      "Descripcion del clima: cielo claro\n",
      "Descripcion del clima: 23.28\n"
     ]
    }
   ],
   "source": [
    "for i in range(len(ciudades)):\n",
    "    try:\n",
    "        url_3= 'http://api.openweathermap.org/data/2.5/weather?'\n",
    "        html = requests.get(url_3, params={'q':ciudades[i]+', Argentina',\n",
    "                             'appid': apikey,\n",
    "                            'lang':lenguaje,\n",
    "                            'units':unidades}).text\n",
    "\n",
    "        objeto= json.loads(html)\n",
    "        print(f'Ciudad: {ciudades[i]}')\n",
    "        print(f'Descripcion del clima: '+  objeto['weather'][0]['description'])\n",
    "        print(f'Descripcion del clima: '+  str(objeto['main']['temp']))\n",
    "    except:\n",
    "        print('No existe')\n"
   ]
  },
  {
   "cell_type": "markdown",
   "id": "4a3f887f",
   "metadata": {},
   "source": [
    "## Creamos un Log de errores para los que no los tengo"
   ]
  },
  {
   "cell_type": "code",
   "execution_count": 129,
   "id": "102c27eb",
   "metadata": {},
   "outputs": [
    {
     "name": "stdout",
     "output_type": "stream",
     "text": [
      "Ciudad: Merlo\n",
      "Descripcion del clima: cielo claro\n",
      "Descripcion del clima: 21.5\n",
      "Ciudad: Ushuaia\n",
      "Descripcion del clima: muy nuboso\n",
      "Descripcion del clima: 6.81\n",
      "Ciudad: Villa General Belgrano\n",
      "Descripcion del clima: cielo claro\n",
      "Descripcion del clima: 27.58\n",
      "Ciudad: Rosario\n",
      "Descripcion del clima: cielo claro\n",
      "Descripcion del clima: 28.33\n",
      "Ciudad: Puerto Madryn\n",
      "Descripcion del clima: nubes\n",
      "Descripcion del clima: 19.39\n",
      "Ciudad: San Martín de los Andes\n",
      "Descripcion del clima: muy nuboso\n",
      "Descripcion del clima: 11.97\n",
      "Ciudad: Bariloche\n",
      "Descripcion del clima: nubes dispersas\n",
      "Descripcion del clima: 11.86\n",
      "Ciudad: San Juan\n",
      "Descripcion del clima: cielo claro\n",
      "Descripcion del clima: 27.25\n",
      "Ciudad: Tartagal\n",
      "Descripcion del clima: algo de nubes\n",
      "Descripcion del clima: 33.81\n"
     ]
    }
   ],
   "source": [
    "log_error= open('Log_error_sol_360.txt', 'w')\n",
    "\n",
    "for i in range(len(ciudades)):\n",
    "    url_3= 'http://api.openweathermap.org/data/2.5/weather?'\n",
    "    html = requests.get(url_3, params={'q':ciudades[i]+', Argentina',\n",
    "                             'appid': apikey,\n",
    "                            'lang':lenguaje,\n",
    "                            'units':unidades}).text\n",
    "\n",
    "    objeto= json.loads(html)\n",
    "    if objeto.get('cod')=='404':\n",
    "        log_error.write(ciudades[i] + '- no encontrado \\n')\n",
    "    else:\n",
    "        print(f'Ciudad: {ciudades[i]}')\n",
    "        print(f'Descripcion del clima: '+  objeto['weather'][0]['description'])\n",
    "        print(f'Descripcion del clima: '+  str(objeto['main']['temp']))\n",
    "\n",
    "        \n",
    "log_error.close()"
   ]
  },
  {
   "cell_type": "markdown",
   "id": "a3ae13f1",
   "metadata": {},
   "source": [
    "### Manejo de errores"
   ]
  },
  {
   "cell_type": "markdown",
   "id": "da16ee70",
   "metadata": {},
   "source": [
    "Lo hago por geolocalizacion y le doy a la api de google"
   ]
  },
  {
   "cell_type": "code",
   "execution_count": 168,
   "id": "1d4e99cd",
   "metadata": {},
   "outputs": [],
   "source": [
    "api_geo = '0b04aa942968404e8d0c15466002e670'\n",
    "url_geo ='https://api.opencagedata.com/geocode/v1/json?'\n",
    "\n",
    "html = requests.get(url_geo, params={'key': api_geo,\n",
    "                   'q':ciudad}).text\n",
    "\n",
    "objeto_geo = json.loads(html)\n",
    "lat = objeto_geo['results'][0]['geometry']['lat']\n",
    "lng =objeto_geo['results'][0]['geometry']['lng']"
   ]
  },
  {
   "cell_type": "code",
   "execution_count": 171,
   "id": "157dc3a5",
   "metadata": {},
   "outputs": [
    {
     "data": {
      "text/plain": [
       "'Ciudad de Buenos Aires, Argentina'"
      ]
     },
     "execution_count": 171,
     "metadata": {},
     "output_type": "execute_result"
    }
   ],
   "source": []
  },
  {
   "cell_type": "code",
   "execution_count": 186,
   "id": "3b37efef",
   "metadata": {},
   "outputs": [
    {
     "name": "stdout",
     "output_type": "stream",
     "text": [
      "Ciudad: Ciudad de Buenos Aires\n",
      "Descripcion del clima: cielo claro\n",
      "Descripcion del clima: 21.7\n",
      "Ciudad: Merlo\n",
      "Descripcion del clima: cielo claro\n",
      "Descripcion del clima: 23.05\n",
      "Ciudad: Ushuaia\n",
      "Descripcion del clima: muy nuboso\n",
      "Descripcion del clima: 6.1\n",
      "Ciudad: Villa General Belgrano\n",
      "Descripcion del clima: cielo claro\n",
      "Descripcion del clima: 25.11\n",
      "Ciudad: Ibera\n",
      "Descripcion del clima: cielo claro\n",
      "Descripcion del clima: 21.99\n",
      "Ciudad: Rosario\n",
      "Descripcion del clima: lluvia ligera\n",
      "Descripcion del clima: 27.25\n",
      "Ciudad: Puerto Madryn\n",
      "Descripcion del clima: cielo claro\n",
      "Descripcion del clima: 31.02\n",
      "Ciudad: San Martín de los Andes\n",
      "Descripcion del clima: nubes\n",
      "Descripcion del clima: 10.46\n",
      "Ciudad: Bariloche\n",
      "Descripcion del clima: nubes dispersas\n",
      "Descripcion del clima: 11.31\n",
      "Ciudad: San Juan\n",
      "Descripcion del clima: niebla\n",
      "Descripcion del clima: 29.26\n",
      "Ciudad: Tartagal\n",
      "Descripcion del clima: algo de nubes\n",
      "Descripcion del clima: 33.09\n"
     ]
    }
   ],
   "source": [
    "log_error= open('Log_error_sol_360.txt', 'w')\n",
    "from time import sleep\n",
    "\n",
    "for i in range(len(ciudades)):\n",
    "    url_geo ='https://api.opencagedata.com/geocode/v1/json?'\n",
    "\n",
    "    html_geo = requests.get(url_geo, params={'key': api_geo,\n",
    "                   'q':ciudades[i]}).text\n",
    "\n",
    "    objeto_geo = json.loads(html_geo)\n",
    "    lat = objeto_geo['results'][0]['geometry']['lat']\n",
    "    lng =objeto_geo['results'][0]['geometry']['lng']\n",
    "    \n",
    "   # html = requests.get(url_3, params={'q':ciudades[i]+', Argentina',\n",
    "   #                          'appid': apikey,\n",
    "   #                         'lang':lenguaje,\n",
    "   #                         'units':unidades}).text\n",
    "    \n",
    "    url_3= 'http://api.openweathermap.org/data/2.5/weather?'\n",
    "    html = requests.get(url_3, params={'lat':lat,\n",
    "                                       'lon':lng,\n",
    "                                      'appid': apikey,\n",
    "                                      'lang':lenguaje,\n",
    "                                        'units':unidades})\n",
    "                       \n",
    "    objeto= json.loads(html.text)\n",
    "    if objeto.get('cod')=='404':\n",
    "        log_error.write(ciudades[i] + '- no encontrado \\n')\n",
    "    else:\n",
    "        sleep(1)\n",
    "        print(f'Ciudad: {ciudades[i]}')\n",
    "        print(f'Descripcion del clima: '+  objeto['weather'][0]['description'])\n",
    "        print(f'Descripcion del clima: '+  str(objeto['main']['temp']))\n",
    "\n",
    "        \n",
    "log_error.close()"
   ]
  },
  {
   "cell_type": "code",
   "execution_count": null,
   "id": "4c48b9c2",
   "metadata": {},
   "outputs": [],
   "source": []
  }
 ],
 "metadata": {
  "kernelspec": {
   "display_name": "Python 3",
   "language": "python",
   "name": "python3"
  },
  "language_info": {
   "codemirror_mode": {
    "name": "ipython",
    "version": 3
   },
   "file_extension": ".py",
   "mimetype": "text/x-python",
   "name": "python",
   "nbconvert_exporter": "python",
   "pygments_lexer": "ipython3",
   "version": "3.8.5"
  },
  "toc": {
   "base_numbering": 1,
   "nav_menu": {},
   "number_sections": true,
   "sideBar": true,
   "skip_h1_title": false,
   "title_cell": "Table of Contents",
   "title_sidebar": "Contents",
   "toc_cell": false,
   "toc_position": {},
   "toc_section_display": true,
   "toc_window_display": false
  },
  "varInspector": {
   "cols": {
    "lenName": 16,
    "lenType": 16,
    "lenVar": 40
   },
   "kernels_config": {
    "python": {
     "delete_cmd_postfix": "",
     "delete_cmd_prefix": "del ",
     "library": "var_list.py",
     "varRefreshCmd": "print(var_dic_list())"
    },
    "r": {
     "delete_cmd_postfix": ") ",
     "delete_cmd_prefix": "rm(",
     "library": "var_list.r",
     "varRefreshCmd": "cat(var_dic_list()) "
    }
   },
   "types_to_exclude": [
    "module",
    "function",
    "builtin_function_or_method",
    "instance",
    "_Feature"
   ],
   "window_display": false
  }
 },
 "nbformat": 4,
 "nbformat_minor": 5
}
