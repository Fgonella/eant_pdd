{
 "cells": [
  {
   "cell_type": "markdown",
   "id": "0d9afc0d",
   "metadata": {},
   "source": [
    "# Ejercicio Integrador"
   ]
  },
  {
   "cell_type": "code",
   "execution_count": 7,
   "id": "20181c10",
   "metadata": {},
   "outputs": [],
   "source": [
    "import requests \n",
    "import numpy\n",
    "from io import StringIO as io\n",
    "import csv"
   ]
  },
  {
   "cell_type": "code",
   "execution_count": 39,
   "id": "1551ac50",
   "metadata": {},
   "outputs": [
    {
     "name": "stdout",
     "output_type": "stream",
     "text": [
      "['Inception', '2010', 'Christopher Nolan', 'Leonardo DiCaprio,Joseph Gordon-Levitt,Ellen Page', 'Action']\n",
      "['Into the Wild', '2007', 'Sean Penn', 'Emile Hirsch,Marcia Gay Harden,William Hurt', 'Drama']\n",
      "['Rounders', '1998', 'John Dahl', 'Matt Damon,Edward Norton,Paul Cicero', 'Drama']\n",
      "['V for Vendetta', '2006', 'James McTeigue', 'Natalie Portman,Hugo Weaving,Stephen Rea', 'Thriller']\n",
      "['Memento', '2000', 'Christopher Nolan', 'Guy Pearce,Carrie-Anne Moss,Joe Pantoliano', 'Crime']\n",
      "['Gladiator', '2000', 'Ridley Scott', 'Russell Crowe,Joaquin Phoenix,Connie Nielsen', 'Action']\n",
      "['Donnie Darko', '2001', 'Richard Kelly', 'Jake Gyllenhaal,Holmes Osborne,Maggie Gyllenhaal', 'Sci-Fi']\n",
      "['Good Will Hunting', '1997', 'Gus Van Sant', 'Matt Damon,Robin Williams,Ben Affleck', 'Drama']\n",
      "['The Hangover', '2009', 'Todd Phillips', 'Bradley Cooper,Ed Helms,Zach Galifianakis', 'Comedy']\n",
      "['Gran Torino', '2008', 'Clint Eastwood', 'Clint Eastwood,Christopher Carley,Bee Vang', 'Drama']\n",
      "['The Butterfly Effect', '2004', 'Eric Bress', 'Ashton Kutcher,Melora Walters,Amy Smart', 'Sci-Fi']\n",
      "['Sin City', '2005', 'Robert Rodriguez', 'Jessica Alba,Devon Aoki,Alexis Bledel', 'Thriller']\n",
      "['Snatch', '2000', 'Guy Ritchie', 'Benicio Del Toro,Brad Pitt', 'Crime']\n",
      "['Robin Hood', '2010', 'Ridley Scott', 'Russell Crowe,Cate Blanchett,Matthew Macfadyen', 'Action']\n",
      "['Beautiful Mind', '2001', 'Ron Howard', 'Russell Crowe,Ed Harris,Jennifer Connelly', 'Biography']\n",
      "['Juno', '2007', 'Jason Reitman', 'Ellen Page,Michael Cera,Jennifer Garner', 'Romance']\n",
      "['Cinderella Man', '2005', 'Ron Howard', 'Russell Crowe,Renee Zellweger,Paul Giamatti', 'Sport']\n",
      "['Meet Joe Black', '1998', 'Martin Brest', 'Brad Pitt,Anthony Hopkins,Claire Forlani', 'Drama']\n",
      "['Planet Terror', '2007', 'Robert Rodriguez', 'Rose McGowan,Freddy Rodriguez,Josh Brolin', 'Sci-Fi']\n",
      "['Rocky', '1976', 'John G. Avildsen', 'Sylvester Stallone,Talia Shire,Burt Young', 'Sport']\n",
      "['Rocky II', '1979', 'Sylvester Stallone', 'Sylvester Stallone,Talia Shire,Burt Young', 'Sport']\n",
      "['Rocky III', '1982', 'Sylvester Stallone', 'Sylvester Stallone,Talia Shire,Burt Young', 'Sport']\n",
      "['Warrior', '2011', \"Gavin O'Connor\", 'Tom Hardy,Nick Nolte,Joel Edgerton', 'Sport']\n",
      "['500 Days of Summer', '2009', 'Marc Webb', 'Joseph Gordon-Levitt,Zooey Deschanel,Geoffrey Arend', 'Romance']\n",
      "['Sherlock Holmes', '2009', 'Guy Ritchie', 'Robert Downey Jr.,Jude Law,Rachel McAdams', 'Mistery']\n",
      "['Pulp Fiction', '1994', 'Quentin Tarantino', 'John Travolta,Samuel L. Jackson,Tim Roth', 'Crime']\n",
      "['Inglourious Basterds', '2009', 'Quentin Tarantino', 'Brad Pitt,Melanie Laurent,Christoph Waltz', 'War']\n"
     ]
    }
   ],
   "source": [
    "#leemos el doogle drive, Lo pasamos por io.String para leerlo mejor \n",
    "\n",
    "url = 'https://docs.google.com/spreadsheets/d/e/2PACX-1vRlH1TXZD96R-Z0CB9QhCn1s4DfOpErHMo3BWMDDUjWangrQln1Xebm-qkQvyagqX3ZOhu3YxfsCCjX/pub?gid=135669795&single=true&output=csv'\n",
    "contenido = requests.get(url=url)\n",
    "data = io(contenido.text) \n",
    "data_csv = csv.reader(data)\n",
    "\n",
    "#Leer cada linea del Csv\n",
    "for i in data_csv:\n",
    "    print(i)\n",
    "    \n"
   ]
  },
  {
   "cell_type": "code",
   "execution_count": 28,
   "id": "5ac58760",
   "metadata": {},
   "outputs": [
    {
     "name": "stdout",
     "output_type": "stream",
     "text": [
      "['500 Days of Summer', '2009', 'Marc Webb', 'Joseph Gordon-Levitt,Zooey Deschanel,Geoffrey Arend', 'Romance']\n",
      "['Sherlock Holmes', '2009', 'Guy Ritchie', 'Robert Downey Jr.,Jude Law,Rachel McAdams', 'Mistery']\n",
      "['Pulp Fiction', '1994', 'Quentin Tarantino', 'John Travolta,Samuel L. Jackson,Tim Roth', 'Crime']\n",
      "['Inglourious Basterds', '2009', 'Quentin Tarantino', 'Brad Pitt,Melanie Laurent,Christoph Waltz', 'War']\n"
     ]
    }
   ],
   "source": [
    "for linea in data_csv:\n",
    "    print(linea)"
   ]
  },
  {
   "cell_type": "code",
   "execution_count": 12,
   "id": "e2bc139d",
   "metadata": {},
   "outputs": [],
   "source": [
    "for linea in  data_csv:\n",
    "    print(linea[2])"
   ]
  },
  {
   "cell_type": "code",
   "execution_count": 33,
   "id": "a2f37949",
   "metadata": {},
   "outputs": [],
   "source": [
    "#coneccion a la base de Datos:\n",
    "\n",
    "import mysql.connector as msql\n",
    "\n",
    "Server = 'sql11.freemysqlhosting.net'\n",
    "Name= 'sql11428927'\n",
    "Username= 'sql11428927'\n",
    "Password= '66ash7SC3i' \n",
    "\n",
    "conetion = msql.connect(host=Server, database = Name, user= Username, password= Password)\n",
    "cursor = conetion.cursor()\n",
    "\n"
   ]
  },
  {
   "cell_type": "code",
   "execution_count": null,
   "id": "d7b00275",
   "metadata": {},
   "outputs": [],
   "source": []
  },
  {
   "cell_type": "code",
   "execution_count": 24,
   "id": "dcf31c29",
   "metadata": {},
   "outputs": [],
   "source": [
    "#Armo el for para mandar la info al SQL\n",
    "\n",
    "for linea in data_csv:\n",
    "    query = f\"INSERT INTO peliculas (pelicula, ano, productor, actores, genero) VALUES ('{linea[0]}','{linea[1]}','{linea[2]}','{linea[3]}','{linea[4]}')\"\n",
    "    cursor.execute()\n",
    "    conetion.commit()\n",
    "    print(linea[1])\n",
    "    \n",
    "    \n",
    "    "
   ]
  },
  {
   "cell_type": "code",
   "execution_count": 47,
   "id": "d647e066",
   "metadata": {},
   "outputs": [],
   "source": [
    "for linea in data_cvs:\n",
    "    print(linea)"
   ]
  },
  {
   "cell_type": "code",
   "execution_count": 36,
   "id": "11bc24af",
   "metadata": {},
   "outputs": [],
   "source": [
    "# Cerrar concexion de SQL\n",
    "\n",
    "cursor.close()\n",
    "conetion.close()"
   ]
  },
  {
   "cell_type": "code",
   "execution_count": 48,
   "id": "20f8cfb3",
   "metadata": {},
   "outputs": [
    {
     "name": "stdout",
     "output_type": "stream",
     "text": [
      "['Inception', '2010', 'Christopher Nolan', 'Leonardo DiCaprio,Joseph Gordon-Levitt,Ellen Page', 'Action']\n",
      "['Into the Wild', '2007', 'Sean Penn', 'Emile Hirsch,Marcia Gay Harden,William Hurt', 'Drama']\n",
      "['Rounders', '1998', 'John Dahl', 'Matt Damon,Edward Norton,Paul Cicero', 'Drama']\n",
      "['V for Vendetta', '2006', 'James McTeigue', 'Natalie Portman,Hugo Weaving,Stephen Rea', 'Thriller']\n",
      "['Memento', '2000', 'Christopher Nolan', 'Guy Pearce,Carrie-Anne Moss,Joe Pantoliano', 'Crime']\n",
      "['Gladiator', '2000', 'Ridley Scott', 'Russell Crowe,Joaquin Phoenix,Connie Nielsen', 'Action']\n",
      "['Donnie Darko', '2001', 'Richard Kelly', 'Jake Gyllenhaal,Holmes Osborne,Maggie Gyllenhaal', 'Sci-Fi']\n",
      "['Good Will Hunting', '1997', 'Gus Van Sant', 'Matt Damon,Robin Williams,Ben Affleck', 'Drama']\n",
      "['The Hangover', '2009', 'Todd Phillips', 'Bradley Cooper,Ed Helms,Zach Galifianakis', 'Comedy']\n",
      "['Gran Torino', '2008', 'Clint Eastwood', 'Clint Eastwood,Christopher Carley,Bee Vang', 'Drama']\n",
      "['The Butterfly Effect', '2004', 'Eric Bress', 'Ashton Kutcher,Melora Walters,Amy Smart', 'Sci-Fi']\n",
      "['Sin City', '2005', 'Robert Rodriguez', 'Jessica Alba,Devon Aoki,Alexis Bledel', 'Thriller']\n",
      "['Snatch', '2000', 'Guy Ritchie', 'Benicio Del Toro,Brad Pitt', 'Crime']\n",
      "['Robin Hood', '2010', 'Ridley Scott', 'Russell Crowe,Cate Blanchett,Matthew Macfadyen', 'Action']\n",
      "['Beautiful Mind', '2001', 'Ron Howard', 'Russell Crowe,Ed Harris,Jennifer Connelly', 'Biography']\n",
      "['Juno', '2007', 'Jason Reitman', 'Ellen Page,Michael Cera,Jennifer Garner', 'Romance']\n",
      "['Cinderella Man', '2005', 'Ron Howard', 'Russell Crowe,Renee Zellweger,Paul Giamatti', 'Sport']\n",
      "['Meet Joe Black', '1998', 'Martin Brest', 'Brad Pitt,Anthony Hopkins,Claire Forlani', 'Drama']\n",
      "['Planet Terror', '2007', 'Robert Rodriguez', 'Rose McGowan,Freddy Rodriguez,Josh Brolin', 'Sci-Fi']\n",
      "['Rocky', '1976', 'John G. Avildsen', 'Sylvester Stallone,Talia Shire,Burt Young', 'Sport']\n",
      "['Rocky II', '1979', 'Sylvester Stallone', 'Sylvester Stallone,Talia Shire,Burt Young', 'Sport']\n",
      "['Rocky III', '1982', 'Sylvester Stallone', 'Sylvester Stallone,Talia Shire,Burt Young', 'Sport']\n",
      "['Warrior', '2011', \"Gavin O'Connor\", 'Tom Hardy,Nick Nolte,Joel Edgerton', 'Sport']\n",
      "No se agrego la pelicula:  Warrior\n",
      "['500 Days of Summer', '2009', 'Marc Webb', 'Joseph Gordon-Levitt,Zooey Deschanel,Geoffrey Arend', 'Romance']\n",
      "['Sherlock Holmes', '2009', 'Guy Ritchie', 'Robert Downey Jr.,Jude Law,Rachel McAdams', 'Mistery']\n",
      "['Pulp Fiction', '1994', 'Quentin Tarantino', 'John Travolta,Samuel L. Jackson,Tim Roth', 'Crime']\n",
      "['Inglourious Basterds', '2009', 'Quentin Tarantino', 'Brad Pitt,Melanie Laurent,Christoph Waltz', 'War']\n"
     ]
    }
   ],
   "source": [
    "#Creo la conexion al sql\n",
    "\n",
    "import mysql.connector as msql\n",
    "\n",
    "Server = 'sql11.freemysqlhosting.net'\n",
    "Name= 'sql11428927'\n",
    "Username= 'sql11428927'\n",
    "Password= '66ash7SC3i' \n",
    "conetion = msql.connect(host=Server, database = Name, user= Username, password= Password)\n",
    "cursor = conetion.cursor()\n",
    "\n",
    "\n",
    "#Armo la query\n",
    "\n",
    "query = f\"INSERT INTO peliculas (pelicula, ano, productor, actores, genero) VALUES ('{linea[0]}','{linea[1]}','{linea[2]}','{linea[3]}','{linea[4]}')\"\n",
    "\n",
    "\n",
    "#Leo el archivo en linea y armo para leer el csv\n",
    "\n",
    "url = 'https://docs.google.com/spreadsheets/d/e/2PACX-1vRlH1TXZD96R-Z0CB9QhCn1s4DfOpErHMo3BWMDDUjWangrQln1Xebm-qkQvyagqX3ZOhu3YxfsCCjX/pub?gid=135669795&single=true&output=csv'\n",
    "contenido = requests.get(url=url)\n",
    "data = io(contenido.text) \n",
    "data_csv = csv.reader(data)\n",
    "\n",
    "#tiro la query e inserto\n",
    "\n",
    "for linea in data_csv:\n",
    "    try:\n",
    "        query = f\"INSERT INTO peliculas (pelicula, ano, productor, actores, genero) VALUES ('{linea[0]}','{linea[1]}','{linea[2]}','{linea[3]}','{linea[4]}')\"\n",
    "        print(linea)\n",
    "        cursor.execute(query)\n",
    "        conetion.commit()\n",
    "    except:\n",
    "        print(\"No se agrego la pelicula: \", linea[0])\n",
    "    \n",
    "    \n",
    "cursor.close()\n",
    "conetion.close()\n"
   ]
  },
  {
   "cell_type": "code",
   "execution_count": null,
   "id": "961c17a4",
   "metadata": {},
   "outputs": [],
   "source": []
  }
 ],
 "metadata": {
  "kernelspec": {
   "display_name": "Python 3",
   "language": "python",
   "name": "python3"
  },
  "language_info": {
   "codemirror_mode": {
    "name": "ipython",
    "version": 3
   },
   "file_extension": ".py",
   "mimetype": "text/x-python",
   "name": "python",
   "nbconvert_exporter": "python",
   "pygments_lexer": "ipython3",
   "version": "3.8.5"
  },
  "toc": {
   "base_numbering": 1,
   "nav_menu": {},
   "number_sections": true,
   "sideBar": true,
   "skip_h1_title": false,
   "title_cell": "Table of Contents",
   "title_sidebar": "Contents",
   "toc_cell": false,
   "toc_position": {},
   "toc_section_display": true,
   "toc_window_display": false
  },
  "varInspector": {
   "cols": {
    "lenName": 16,
    "lenType": 16,
    "lenVar": 40
   },
   "kernels_config": {
    "python": {
     "delete_cmd_postfix": "",
     "delete_cmd_prefix": "del ",
     "library": "var_list.py",
     "varRefreshCmd": "print(var_dic_list())"
    },
    "r": {
     "delete_cmd_postfix": ") ",
     "delete_cmd_prefix": "rm(",
     "library": "var_list.r",
     "varRefreshCmd": "cat(var_dic_list()) "
    }
   },
   "position": {
    "height": "335px",
    "left": "1098px",
    "right": "20px",
    "top": "120px",
    "width": "322px"
   },
   "types_to_exclude": [
    "module",
    "function",
    "builtin_function_or_method",
    "instance",
    "_Feature"
   ],
   "window_display": false
  }
 },
 "nbformat": 4,
 "nbformat_minor": 5
}
