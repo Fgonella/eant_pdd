{
 "cells": [
  {
   "cell_type": "markdown",
   "id": "dec01dff",
   "metadata": {},
   "source": [
    "## Clase 13"
   ]
  },
  {
   "cell_type": "code",
   "execution_count": 7,
   "id": "6e860da6",
   "metadata": {},
   "outputs": [],
   "source": [
    "from flask import Flask\n",
    "from flask import json \n",
    "from pymongo import MongoClient\n",
    "from urllib.parse import urlencode\n",
    "\n",
    "#Para las contrasenas y datos criticos\n",
    "import settings #traigo el archivo que cree de settings \n",
    "from os import environ\n"
   ]
  },
  {
   "cell_type": "code",
   "execution_count": 8,
   "id": "2ca005a8",
   "metadata": {},
   "outputs": [],
   "source": [
    "# Environ es un dic y le pido los datos y lo guardo en nuevas variables \n",
    "\n",
    "USER =environ['DB_USER']\n",
    "PASS =environ['DB_PASS']\n",
    "HOST =environ['DB_HOST']\n",
    "BASE =environ['DB_NAME']\n"
   ]
  },
  {
   "cell_type": "code",
   "execution_count": null,
   "id": "39b59c49",
   "metadata": {},
   "outputs": [
    {
     "name": "stdout",
     "output_type": "stream",
     "text": [
      " * Serving Flask app \"__main__\" (lazy loading)\n",
      " * Environment: production\n",
      "\u001b[31m   WARNING: This is a development server. Do not use it in a production deployment.\u001b[0m\n",
      "\u001b[2m   Use a production WSGI server instead.\u001b[0m\n",
      " * Debug mode: off\n"
     ]
    },
    {
     "name": "stderr",
     "output_type": "stream",
     "text": [
      " * Running on http://0.0.0.0:3000/ (Press CTRL+C to quit)\n",
      "127.0.0.1 - - [12/Sep/2021 21:14:05] \"\u001b[37mGET / HTTP/1.1\u001b[0m\" 200 -\n",
      "127.0.0.1 - - [12/Sep/2021 21:14:06] \"\u001b[33mGET //ws HTTP/1.1\u001b[0m\" 404 -\n",
      "127.0.0.1 - - [12/Sep/2021 21:14:11] \"\u001b[37mGET /tweets/company HTTP/1.1\u001b[0m\" 200 -\n",
      "127.0.0.1 - - [12/Sep/2021 21:14:11] \"\u001b[33mGET /tweets/company/ws HTTP/1.1\u001b[0m\" 404 -\n"
     ]
    }
   ],
   "source": [
    "app = Flask(__name__)\n",
    "\n",
    "### Mongo DB --> conexion \n",
    "\n",
    "params = {'retryWrites':'true',\n",
    "          'w':'majority',\n",
    "          'ssl':'true',\n",
    "          'ssl_cert_reqs':'CERT_NONE'}\n",
    "\n",
    "client = MongoClient(f\"mongodb+srv://{USER}:{PASS}@{HOST}/{BASE}?\"+urlencode(params))\n",
    "\n",
    "#### Rutas para Flask\n",
    "\n",
    "@app.route('/')\n",
    "def home():\n",
    "    return 'Hola mundo desde <b>Flask<b>'\n",
    "\n",
    "#### \n",
    "\n",
    "@app.route('/users')\n",
    "def users_tweeters():\n",
    "    users = [\n",
    "            {'name':'Juan_'},\n",
    "            {'name':'Pedro'},\n",
    "            {'name':'Rodrigo'},\n",
    "            {'name':'Roberto'}]\n",
    "    response = app.response_class(response=json.dumps(users), status=200, mimetype='application/json')\n",
    "    return response\n",
    "\n",
    "###\n",
    "\n",
    "@app.route('/tweets/<path>')\n",
    "def getTweet(path):\n",
    "    tw = client['api_twitter']['tweets']\n",
    "    users = tw.find({'type':path})\n",
    "    \n",
    "    if path not in ['people', 'company']:\n",
    "        resultado = {'Error':'No existe categoria'}\n",
    "    else:\n",
    "        resultado = []\n",
    "        for user in users:\n",
    "            item = {'usuario': user['name']}\n",
    "            resultado.append(item)\n",
    "            \n",
    "    response = app.response_class(response=json.dumps(resultado), status=200, mimetype='application/json')\n",
    "    return response\n",
    "    \n",
    "####\n",
    "\n",
    "app.run(port=3000, host= '0.0.0.0')\n",
    "    \n",
    "\n",
    "\n"
   ]
  },
  {
   "cell_type": "code",
   "execution_count": null,
   "id": "9448a534",
   "metadata": {},
   "outputs": [],
   "source": []
  }
 ],
 "metadata": {
  "kernelspec": {
   "display_name": "Python 3",
   "language": "python",
   "name": "python3"
  },
  "language_info": {
   "codemirror_mode": {
    "name": "ipython",
    "version": 3
   },
   "file_extension": ".py",
   "mimetype": "text/x-python",
   "name": "python",
   "nbconvert_exporter": "python",
   "pygments_lexer": "ipython3",
   "version": "3.8.5"
  },
  "toc": {
   "base_numbering": 1,
   "nav_menu": {},
   "number_sections": true,
   "sideBar": true,
   "skip_h1_title": false,
   "title_cell": "Table of Contents",
   "title_sidebar": "Contents",
   "toc_cell": false,
   "toc_position": {},
   "toc_section_display": true,
   "toc_window_display": false
  },
  "varInspector": {
   "cols": {
    "lenName": 16,
    "lenType": 16,
    "lenVar": 40
   },
   "kernels_config": {
    "python": {
     "delete_cmd_postfix": "",
     "delete_cmd_prefix": "del ",
     "library": "var_list.py",
     "varRefreshCmd": "print(var_dic_list())"
    },
    "r": {
     "delete_cmd_postfix": ") ",
     "delete_cmd_prefix": "rm(",
     "library": "var_list.r",
     "varRefreshCmd": "cat(var_dic_list()) "
    }
   },
   "types_to_exclude": [
    "module",
    "function",
    "builtin_function_or_method",
    "instance",
    "_Feature"
   ],
   "window_display": false
  }
 },
 "nbformat": 4,
 "nbformat_minor": 5
}
