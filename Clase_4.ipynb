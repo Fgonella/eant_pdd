{
 "cells": [
  {
   "cell_type": "markdown",
   "id": "d21cf763",
   "metadata": {},
   "source": [
    "# Web Scrapping\n"
   ]
  },
  {
   "cell_type": "code",
   "execution_count": 6,
   "id": "4a2b7653",
   "metadata": {},
   "outputs": [],
   "source": [
    "import requests"
   ]
  },
  {
   "cell_type": "code",
   "execution_count": 16,
   "id": "af159ed1",
   "metadata": {},
   "outputs": [
    {
     "name": "stdout",
     "output_type": "stream",
     "text": [
      "Codigo respuesta:  200\n"
     ]
    }
   ],
   "source": [
    "url= 'https://www.eant.tech/cursos/recursos/frutas.txt'\n",
    "\n",
    "respuesta = requests.get(url)\n",
    "print('Codigo respuesta: ', respuesta.status_code)"
   ]
  },
  {
   "cell_type": "code",
   "execution_count": 19,
   "id": "63781bed",
   "metadata": {},
   "outputs": [],
   "source": [
    "respuesta.encoding ='utf-8'"
   ]
  },
  {
   "cell_type": "code",
   "execution_count": 22,
   "id": "9af186a4",
   "metadata": {},
   "outputs": [
    {
     "name": "stdout",
     "output_type": "stream",
     "text": [
      "Arándano\n",
      "Frambuesa\n",
      "Frutilla\n",
      "Mandarina\n",
      "Naranja\n",
      "Pomelo\n",
      "Melón\n",
      "Sandía\n",
      "Coco\n",
      "Kiwi\n",
      "Mango\n",
      "Papaya\n",
      "Piña\n",
      "Ananá\n",
      "Banana\n",
      "Cereza\n",
      "Ciruela\n",
      "Higo\n",
      "Kaki\n",
      "Manzana\n",
      "Durazno\n",
      "Níspero\n",
      "Pera\n",
      "Uva\n",
      "Almendra\n",
      "Avellana\n",
      "Maní\n",
      "Castaña\n",
      "Nuez\n",
      "Pistacho\n",
      "\n"
     ]
    }
   ],
   "source": [
    "print(respuesta.text)"
   ]
  },
  {
   "cell_type": "code",
   "execution_count": 26,
   "id": "d259cc33",
   "metadata": {},
   "outputs": [],
   "source": [
    "import requests\n",
    "url = 'https://eant.tech/cursos/recursos/peliculas.csv'\n",
    "respuesta =requests.get(url)"
   ]
  },
  {
   "cell_type": "code",
   "execution_count": 29,
   "id": "925c2419",
   "metadata": {},
   "outputs": [
    {
     "data": {
      "text/plain": [
       "'Inception,2010,Christopher Nolan,\"Leonardo DiCaprio,Joseph Gordon-Levitt,Ellen Page\",Action\\nInto the Wild,2007,Sean Penn,\"Emile Hirsch,Marcia Gay Harden,William Hurt\",Drama\\nRounders,1998,John Dahl,\"Matt Damon,Edward Norton,Paul Cicero\",Drama\\nV for Vendetta,2006,James McTeigue,\"Natalie Portman,Hugo Weaving,Stephen Rea\",Thriller\\nMemento,2000,Christopher Nolan,\"Guy Pearce,Carrie-Anne Moss,Joe Pantoliano\",Crime\\nGladiator,2000,Ridley Scott,\"Russell Crowe,Joaquin Phoenix,Connie Nielsen\",Action\\nDonnie Darko,2001,Richard Kelly,\"Jake Gyllenhaal,Holmes Osborne,Maggie Gyllenhaal\",Sci-Fi\\nGood Will Hunting,1997,Gus Van Sant,\"Matt Damon,Robin Williams,Ben Affleck\",Drama\\nThe Hangover,2009,Todd Phillips,\"Bradley Cooper,Ed Helms,Zach Galifianakis\",Comedy\\nGran Torino,2008,Clint Eastwood,\"Clint Eastwood,Christopher Carley,Bee Vang\",Drama\\nThe Butterfly Effect,2004,Eric Bress,\"Ashton Kutcher,Melora Walters,Amy Smart\",Sci-Fi\\nSin City,2005,Robert Rodriguez,\"Jessica Alba,Devon Aoki,Alexis Bledel\",Thriller\\nSnatch,2000,Guy Ritchie,\"Benicio Del Toro,Brad Pitt\",Crime\\nRobin Hood,2010,Ridley Scott,\"Russell Crowe,Cate Blanchett,Matthew Macfadyen\",Action\\nBeautiful Mind,2001,Ron Howard,\"Russell Crowe,Ed Harris,Jennifer Connelly\",Biography\\nJuno,2007,Jason Reitman,\"Ellen Page,Michael Cera,Jennifer Garner\",Romance\\nCinderella Man,2005,Ron Howard,\"Russell Crowe,Renee Zellweger,Paul Giamatti\",Sport\\nMeet Joe Black,1998,Martin Brest,\"Brad Pitt,Anthony Hopkins,Claire Forlani\",Drama\\nPlanet Terror,2007,Robert Rodriguez,\"Rose McGowan,Freddy Rodriguez,Josh Brolin\",Sci-Fi\\nRocky,1976,John G. Avildsen,\"Sylvester Stallone,Talia Shire,Burt Young\",Sport\\nRocky II,1979,Sylvester Stallone,\"Sylvester Stallone,Talia Shire,Burt Young\",Sport\\nRocky III,1982,Sylvester Stallone,\"Sylvester Stallone,Talia Shire,Burt Young\",Sport\\nWarrior,2011,Gavin O\\'Connor,\"Tom Hardy,Nick Nolte,Joel Edgerton\",Sport\\n500 Days of Summer,2009,Marc Webb,\"Joseph Gordon-Levitt,Zooey Deschanel,Geoffrey Arend\",Romance\\nSherlock Holmes,2009,Guy Ritchie,\"Robert Downey Jr.,Jude Law,Rachel McAdams\",Mistery\\nPulp Fiction,1994,Quentin Tarantino,\"John Travolta,Samuel L. Jackson,Tim Roth\",Crime\\nInglourious Basterds,2009,Quentin Tarantino,\"Brad Pitt,Melanie Laurent,Christoph Waltz\",War\\n'"
      ]
     },
     "execution_count": 29,
     "metadata": {},
     "output_type": "execute_result"
    }
   ],
   "source": [
    "contenido = respuesta.text\n",
    "contenido"
   ]
  },
  {
   "cell_type": "code",
   "execution_count": 30,
   "id": "6adf7b9f",
   "metadata": {},
   "outputs": [],
   "source": [
    "with open('peliculas.csv', 'w') as archivo:\n",
    "    archivo.write(contenido)\n",
    "    "
   ]
  },
  {
   "cell_type": "code",
   "execution_count": 32,
   "id": "c555faf8",
   "metadata": {},
   "outputs": [],
   "source": [
    "import requests\n",
    "import csv\n",
    "from io import StringIO #ayuda a leer al reader \n",
    "\n",
    "url = 'https://eant.tech/cursos/recursos/peliculas.csv'\n",
    "respuesta =requests.get(url)\n",
    "\n",
    "contenido = respuesta.text\n",
    "file = StringIO(contenido)\n",
    "objeto_csv = csv.reader(file)\n",
    "\n",
    "\n",
    "with open('peliculas.csv', 'w',newline='') as archivo:\n",
    "    for linea in objeto_csv:\n",
    "        archivo.write(linea[0]+','+linea[1]+'\\n')\n",
    "    \n",
    "    "
   ]
  },
  {
   "cell_type": "markdown",
   "id": "80102786",
   "metadata": {},
   "source": [
    "## Como leer google sheet"
   ]
  },
  {
   "cell_type": "code",
   "execution_count": 34,
   "id": "87decfbc",
   "metadata": {},
   "outputs": [],
   "source": [
    "url ='https://docs.google.com/spreadsheets/d/e/2PACX-1vRlH1TXZD96R-Z0CB9QhCn1s4DfOpErHMo3BWMDDUjWangrQln1Xebm-qkQvyagqX3ZOhu3YxfsCCjX/pub?gid=135669795&single=true&output=csv'\n",
    "\n",
    "respuesta =requests.get(url)\n",
    "\n",
    "contenido = respuesta.text\n",
    "file = StringIO(contenido)\n",
    "objeto_csv = csv.reader(file)\n",
    "\n",
    "\n",
    "with open('peliculas_google.csv', 'w',newline='') as archivo:\n",
    "    for linea in objeto_csv:\n",
    "        archivo.write(linea[0]+','+linea[1]+'\\n')"
   ]
  },
  {
   "cell_type": "code",
   "execution_count": null,
   "id": "641fec9c",
   "metadata": {},
   "outputs": [],
   "source": []
  }
 ],
 "metadata": {
  "kernelspec": {
   "display_name": "Python 3",
   "language": "python",
   "name": "python3"
  },
  "language_info": {
   "codemirror_mode": {
    "name": "ipython",
    "version": 3
   },
   "file_extension": ".py",
   "mimetype": "text/x-python",
   "name": "python",
   "nbconvert_exporter": "python",
   "pygments_lexer": "ipython3",
   "version": "3.8.5"
  },
  "toc": {
   "base_numbering": 1,
   "nav_menu": {},
   "number_sections": true,
   "sideBar": true,
   "skip_h1_title": false,
   "title_cell": "Table of Contents",
   "title_sidebar": "Contents",
   "toc_cell": false,
   "toc_position": {},
   "toc_section_display": true,
   "toc_window_display": false
  },
  "varInspector": {
   "cols": {
    "lenName": 16,
    "lenType": 16,
    "lenVar": 40
   },
   "kernels_config": {
    "python": {
     "delete_cmd_postfix": "",
     "delete_cmd_prefix": "del ",
     "library": "var_list.py",
     "varRefreshCmd": "print(var_dic_list())"
    },
    "r": {
     "delete_cmd_postfix": ") ",
     "delete_cmd_prefix": "rm(",
     "library": "var_list.r",
     "varRefreshCmd": "cat(var_dic_list()) "
    }
   },
   "types_to_exclude": [
    "module",
    "function",
    "builtin_function_or_method",
    "instance",
    "_Feature"
   ],
   "window_display": false
  }
 },
 "nbformat": 4,
 "nbformat_minor": 5
}
