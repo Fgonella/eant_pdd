{
 "cells": [
  {
   "cell_type": "markdown",
   "id": "fa0cf8c6",
   "metadata": {},
   "source": [
    "# Clase 9 MongoDB\n"
   ]
  },
  {
   "cell_type": "code",
   "execution_count": 7,
   "id": "c499dc37",
   "metadata": {},
   "outputs": [],
   "source": [
    "from pymongo import MongoClient\n"
   ]
  },
  {
   "cell_type": "code",
   "execution_count": 9,
   "id": "6a6300cb",
   "metadata": {},
   "outputs": [
    {
     "data": {
      "text/plain": [
       "MongoClient(host=['localhost:27017'], document_class=dict, tz_aware=False, connect=True)"
      ]
     },
     "execution_count": 9,
     "metadata": {},
     "output_type": "execute_result"
    }
   ],
   "source": [
    "cliente = MongoClient(host='mongodb://localhost:27017', port=27017)\n",
    "cliente"
   ]
  },
  {
   "cell_type": "code",
   "execution_count": 16,
   "id": "57943eee",
   "metadata": {},
   "outputs": [],
   "source": [
    "#Insertat campos en la tabla\n",
    "\n",
    "estudiante ={'nombre': 'Ana',\n",
    "             'apellido': 'Falda',\n",
    "             'dni': 34789543}\n",
    "\n"
   ]
  },
  {
   "cell_type": "code",
   "execution_count": 17,
   "id": "1e43db19",
   "metadata": {},
   "outputs": [
    {
     "data": {
      "text/plain": [
       "<pymongo.results.InsertOneResult at 0x7f8711fbe940>"
      ]
     },
     "execution_count": 17,
     "metadata": {},
     "output_type": "execute_result"
    }
   ],
   "source": [
    "# Inserto en la base de datos, cliente es la conexion, bbdd, universidad, alumnos la tabla \n",
    "\n",
    "#Insert One, es para incertar solo 1 Campo\n",
    "\n",
    "cliente.universidad.alumnos.insert_one(estudiante)\n"
   ]
  },
  {
   "cell_type": "code",
   "execution_count": 19,
   "id": "94ccb83c",
   "metadata": {},
   "outputs": [],
   "source": [
    "# podes poner valiables en la bd\n",
    "\n",
    "bd = cliente['universidad']\n",
    "coleccion = bd['alumnos']"
   ]
  },
  {
   "cell_type": "code",
   "execution_count": 21,
   "id": "d8d3bffb",
   "metadata": {},
   "outputs": [],
   "source": [
    "# creo lista de dicionario para insertat de a muchos\n",
    "\n",
    "estudiantes = [{'nombre': 'Pedro','apellido': 'Rodri','dni': 14856490},\n",
    "               {'nombre': 'Pablo','apellido': 'Gimenez','dni': 32095642},\n",
    "               {'nombre': 'Anai','apellido': 'Folk','dni': 1456793},\n",
    "               {'nombre': 'Fernando','apellido': 'Gonella'},\n",
    "              {'nombre': 'Julian','apellido': 'Ramone','dni': 1678543, 'hijos':[{'nombre':'Juan', 'edad':12},\n",
    "                                                                               {'nombre': 'Pedro', 'edad':23}]}\n",
    "              ]"
   ]
  },
  {
   "cell_type": "code",
   "execution_count": 24,
   "id": "6613d399",
   "metadata": {},
   "outputs": [
    {
     "data": {
      "text/plain": [
       "<pymongo.results.InsertManyResult at 0x7f8711d03540>"
      ]
     },
     "execution_count": 24,
     "metadata": {},
     "output_type": "execute_result"
    }
   ],
   "source": [
    "# Inserto todos de una \n",
    "coleccion.insert_many(estudiantes)\n"
   ]
  },
  {
   "cell_type": "code",
   "execution_count": 27,
   "id": "da44e160",
   "metadata": {},
   "outputs": [
    {
     "name": "stdout",
     "output_type": "stream",
     "text": [
      "{'_id': ObjectId('612e76f1b757d4f3c7a6e05a'), 'nombre': 'Gonazalo', 'apellido': 'Garcia', 'dni': 34543965}\n",
      "{'_id': ObjectId('612f1faaa0ba162c8bb5b562'), 'nombre': 'Ana', 'apellido': 'Falda', 'dni': 34789543}\n",
      "{'_id': ObjectId('612f21d1a0ba162c8bb5b563'), 'nombre': 'Pedro', 'apellido': 'Rodri', 'dni': 14856490}\n",
      "{'_id': ObjectId('612f21d1a0ba162c8bb5b564'), 'nombre': 'Pablo', 'apellido': 'Gimenez', 'dni': 32095642}\n",
      "{'_id': ObjectId('612f21d1a0ba162c8bb5b565'), 'nombre': 'Anai', 'apellido': 'Folk', 'dni': 1456793}\n",
      "{'_id': ObjectId('612f21d1a0ba162c8bb5b566'), 'nombre': 'Fernando', 'apellido': 'Gonella'}\n",
      "{'_id': ObjectId('612f21d1a0ba162c8bb5b567'), 'nombre': 'Julian', 'apellido': 'Ramone', 'dni': 1678543, 'hijos': [{'nombre': 'Juan', 'edad': 12}, {'nombre': 'Pedro', 'edad': 23}]}\n"
     ]
    }
   ],
   "source": [
    "# SELECCIONADO DE DATOS\n",
    "\n",
    "estudiantes = coleccion.find()\n",
    "for estudiante in estudiantes:\n",
    "    print(estudiante)"
   ]
  },
  {
   "cell_type": "code",
   "execution_count": 31,
   "id": "d0e21dae",
   "metadata": {},
   "outputs": [
    {
     "name": "stdout",
     "output_type": "stream",
     "text": [
      "{'_id': ObjectId('612f1faaa0ba162c8bb5b562'), 'nombre': 'Ana', 'apellido': 'Falda', 'dni': 34789543}\n"
     ]
    }
   ],
   "source": [
    "# APLICO FILTROS\n",
    "\n",
    "query = coleccion.find({'nombre':'Ana'})\n",
    "for i in query:\n",
    "    print(i)"
   ]
  },
  {
   "cell_type": "code",
   "execution_count": 32,
   "id": "116112f2",
   "metadata": {},
   "outputs": [
    {
     "name": "stdout",
     "output_type": "stream",
     "text": [
      "34789543\n"
     ]
    }
   ],
   "source": [
    "query = coleccion.find({'nombre':'Ana'})\n",
    "for i in query:\n",
    "    print(i['dni'])"
   ]
  },
  {
   "cell_type": "code",
   "execution_count": 33,
   "id": "77ba77aa",
   "metadata": {},
   "outputs": [
    {
     "name": "stdout",
     "output_type": "stream",
     "text": [
      "{'_id': ObjectId('612f21d1a0ba162c8bb5b567'), 'nombre': 'Julian', 'apellido': 'Ramone', 'dni': 1678543, 'hijos': [{'nombre': 'Juan', 'edad': 12}, {'nombre': 'Pedro', 'edad': 23}]}\n"
     ]
    }
   ],
   "source": [
    "query2 = coleccion.find({'hijos.nombre':'Pedro'})\n",
    "for i in query2:\n",
    "    print(i)"
   ]
  },
  {
   "cell_type": "code",
   "execution_count": null,
   "id": "a6cefd4f",
   "metadata": {},
   "outputs": [],
   "source": [
    "#"
   ]
  }
 ],
 "metadata": {
  "kernelspec": {
   "display_name": "Python 3",
   "language": "python",
   "name": "python3"
  },
  "language_info": {
   "codemirror_mode": {
    "name": "ipython",
    "version": 3
   },
   "file_extension": ".py",
   "mimetype": "text/x-python",
   "name": "python",
   "nbconvert_exporter": "python",
   "pygments_lexer": "ipython3",
   "version": "3.8.5"
  },
  "toc": {
   "base_numbering": 1,
   "nav_menu": {},
   "number_sections": true,
   "sideBar": true,
   "skip_h1_title": false,
   "title_cell": "Table of Contents",
   "title_sidebar": "Contents",
   "toc_cell": false,
   "toc_position": {},
   "toc_section_display": true,
   "toc_window_display": false
  },
  "varInspector": {
   "cols": {
    "lenName": 16,
    "lenType": 16,
    "lenVar": 40
   },
   "kernels_config": {
    "python": {
     "delete_cmd_postfix": "",
     "delete_cmd_prefix": "del ",
     "library": "var_list.py",
     "varRefreshCmd": "print(var_dic_list())"
    },
    "r": {
     "delete_cmd_postfix": ") ",
     "delete_cmd_prefix": "rm(",
     "library": "var_list.r",
     "varRefreshCmd": "cat(var_dic_list()) "
    }
   },
   "types_to_exclude": [
    "module",
    "function",
    "builtin_function_or_method",
    "instance",
    "_Feature"
   ],
   "window_display": false
  }
 },
 "nbformat": 4,
 "nbformat_minor": 5
}
