{
 "cells": [
  {
   "cell_type": "markdown",
   "id": "b1a6810d",
   "metadata": {},
   "source": [
    "# Web Scraping"
   ]
  },
  {
   "cell_type": "code",
   "execution_count": 7,
   "id": "1954aadd",
   "metadata": {},
   "outputs": [],
   "source": [
    "from bs4 import BeautifulSoup as BS"
   ]
  },
  {
   "cell_type": "code",
   "execution_count": 5,
   "id": "075cefc4",
   "metadata": {},
   "outputs": [],
   "source": [
    "archivo_html = open('../Data/web_ejemplo.html', encoding='utf-8')"
   ]
  },
  {
   "cell_type": "code",
   "execution_count": 8,
   "id": "d6e625a2",
   "metadata": {},
   "outputs": [],
   "source": [
    "dom = BS(archivo_html,features= 'html.parser')"
   ]
  },
  {
   "cell_type": "code",
   "execution_count": 9,
   "id": "1781484d",
   "metadata": {},
   "outputs": [
    {
     "data": {
      "text/plain": [
       "<html>\n",
       "<head>\n",
       "<title>La historia de los Vengadores</title>\n",
       "</head>\n",
       "<body>\n",
       "<h1>Ejemplo para Scraping</h1>\n",
       "<h2 id=\"sub-titulo\"><b>Los vengadores</b></h2>\n",
       "<p class=\"historia-principal\">Los vengadores son un grupo de super héroes; sus integrantes principales son\n",
       "            <a class=\"avenger\" href=\"https://es.wikipedia.org/wiki/Iron_Man\" id=\"link1\">Ironman</a>,\n",
       "            <a class=\"avenger\" href=\"https://es.wikipedia.org/wiki/Thor_(c%C3%B3mic)\" id=\"link2\">Thor</a> y\n",
       "            <a class=\"avenger\" href=\"https://es.wikipedia.org/wiki/Hulk\" id=\"link3\">Hulk</a>;\n",
       "        y todos ellos están de acuerdo en hacer el bien...sin mirar a quién.</p>\n",
       "<p class=\"historia\">Lorem ipsum dolor, sit amet consectetur adipisicing elit. Molestias nulla voluptatem dolorum in quos quidem voluptates eos praesentium ullam totam!</p>\n",
       "<p class=\"historia\" id=\"historia_larga\">Lorem ipsum dolor sit amet consectetur adipisicing elit. Adipisci, quis maiores animi, beatae assumenda autem nihil dolore maxime consequuntur, corrupti reiciendis exercitationem. Rerum aspernatur et fuga ipsa illo ratione excepturi laudantium, consequatur magnam nesciunt. Cumque nulla perferendis, tenetur soluta quae facilis, ea nobis quidem, placeat voluptatem laborum iusto earum. Recusandae alias eligendi incidunt aspernatur repudiandae voluptates eaque atque ipsa debitis! Officia, soluta blanditiis officiis molestiae perferendis neque, temporibus excepturi, molestias necessitatibus dolore modi eaque hic animi accusantium accusamus eveniet! Velit, molestiae nesciunt reiciendis placeat, beatae minus corrupti fuga vitae nostrum necessitatibus blanditiis cumque at ducimus temporibus ullam. Totam, omnis deserunt.</p>\n",
       "<span class=\"historia\">Lorem, ipsum dolor sit amet consectetur adipisicing elit. Esse vitae deleniti hic a dolor tempora, autem magnam inventore quo doloribus illo ducimus eligendi facere nisi ratione aperiam deserunt aut minima.</span>\n",
       "<p class=\"historia\" data-minumero=\"124124\" id=\"otros-integrantes\">Los Avengers lo conforman otros superhéroes como\n",
       "            <a class=\"avenger\" href=\"https://es.wikipedia.org/wiki/Spider-Man\" id=\"link4\">Spiderman</a>,\n",
       "            <a class=\"avenger\" href=\"https://es.wikipedia.org/wiki/Ant-Man_and_the_Wasp\" id=\"link5\">Antman &amp; Wasp</a> y\n",
       "            <a class=\"avenger\" href=\"https://es.wikipedia.org/wiki/Ojo_de_Halc%C3%B3n\" id=\"link6\">Hawk Eye</a>;\n",
       "        y todos ellos también están de acuerdo en hacer el bien...sin mirar a quién.</p>\n",
       "</body>\n",
       "</html>"
      ]
     },
     "execution_count": 9,
     "metadata": {},
     "output_type": "execute_result"
    }
   ],
   "source": [
    "dom\n"
   ]
  },
  {
   "cell_type": "code",
   "execution_count": 11,
   "id": "0d2e8f21",
   "metadata": {},
   "outputs": [
    {
     "name": "stdout",
     "output_type": "stream",
     "text": [
      "<bound method Tag.prettify of <html>\n",
      "<head>\n",
      "<title>La historia de los Vengadores</title>\n",
      "</head>\n",
      "<body>\n",
      "<h1>Ejemplo para Scraping</h1>\n",
      "<h2 id=\"sub-titulo\"><b>Los vengadores</b></h2>\n",
      "<p class=\"historia-principal\">Los vengadores son un grupo de super héroes; sus integrantes principales son\n",
      "            <a class=\"avenger\" href=\"https://es.wikipedia.org/wiki/Iron_Man\" id=\"link1\">Ironman</a>,\n",
      "            <a class=\"avenger\" href=\"https://es.wikipedia.org/wiki/Thor_(c%C3%B3mic)\" id=\"link2\">Thor</a> y\n",
      "            <a class=\"avenger\" href=\"https://es.wikipedia.org/wiki/Hulk\" id=\"link3\">Hulk</a>;\n",
      "        y todos ellos están de acuerdo en hacer el bien...sin mirar a quién.</p>\n",
      "<p class=\"historia\">Lorem ipsum dolor, sit amet consectetur adipisicing elit. Molestias nulla voluptatem dolorum in quos quidem voluptates eos praesentium ullam totam!</p>\n",
      "<p class=\"historia\" id=\"historia_larga\">Lorem ipsum dolor sit amet consectetur adipisicing elit. Adipisci, quis maiores animi, beatae assumenda autem nihil dolore maxime consequuntur, corrupti reiciendis exercitationem. Rerum aspernatur et fuga ipsa illo ratione excepturi laudantium, consequatur magnam nesciunt. Cumque nulla perferendis, tenetur soluta quae facilis, ea nobis quidem, placeat voluptatem laborum iusto earum. Recusandae alias eligendi incidunt aspernatur repudiandae voluptates eaque atque ipsa debitis! Officia, soluta blanditiis officiis molestiae perferendis neque, temporibus excepturi, molestias necessitatibus dolore modi eaque hic animi accusantium accusamus eveniet! Velit, molestiae nesciunt reiciendis placeat, beatae minus corrupti fuga vitae nostrum necessitatibus blanditiis cumque at ducimus temporibus ullam. Totam, omnis deserunt.</p>\n",
      "<span class=\"historia\">Lorem, ipsum dolor sit amet consectetur adipisicing elit. Esse vitae deleniti hic a dolor tempora, autem magnam inventore quo doloribus illo ducimus eligendi facere nisi ratione aperiam deserunt aut minima.</span>\n",
      "<p class=\"historia\" data-minumero=\"124124\" id=\"otros-integrantes\">Los Avengers lo conforman otros superhéroes como\n",
      "            <a class=\"avenger\" href=\"https://es.wikipedia.org/wiki/Spider-Man\" id=\"link4\">Spiderman</a>,\n",
      "            <a class=\"avenger\" href=\"https://es.wikipedia.org/wiki/Ant-Man_and_the_Wasp\" id=\"link5\">Antman &amp; Wasp</a> y\n",
      "            <a class=\"avenger\" href=\"https://es.wikipedia.org/wiki/Ojo_de_Halc%C3%B3n\" id=\"link6\">Hawk Eye</a>;\n",
      "        y todos ellos también están de acuerdo en hacer el bien...sin mirar a quién.</p>\n",
      "</body>\n",
      "</html>>\n"
     ]
    }
   ],
   "source": [
    "#Le doy la estructura de html \n",
    "print(dom.prettify) "
   ]
  },
  {
   "cell_type": "code",
   "execution_count": 14,
   "id": "beb3c595",
   "metadata": {},
   "outputs": [
    {
     "name": "stdout",
     "output_type": "stream",
     "text": [
      "Ironman\n"
     ]
    }
   ],
   "source": [
    "primer_link = dom.a\n",
    "print(primer_link.string)"
   ]
  },
  {
   "cell_type": "code",
   "execution_count": 15,
   "id": "dbbc2f59",
   "metadata": {},
   "outputs": [
    {
     "name": "stdout",
     "output_type": "stream",
     "text": [
      "Ironman\n"
     ]
    }
   ],
   "source": [
    "#Otra manera de encontrar\n",
    "\n",
    "primer_link2 = dom.find('a')\n",
    "print(primer_link2.string)"
   ]
  },
  {
   "cell_type": "code",
   "execution_count": 20,
   "id": "3d0577cd",
   "metadata": {},
   "outputs": [
    {
     "name": "stdout",
     "output_type": "stream",
     "text": [
      "Ironman\n",
      "Thor\n",
      "Hulk\n",
      "Spiderman\n",
      "Antman & Wasp\n",
      "Hawk Eye\n"
     ]
    }
   ],
   "source": [
    "# Encontrar todas\n",
    "\n",
    "todos_los_links = dom.find_all('a')\n",
    "for link in todos_los_links:\n",
    "    print(link.string)"
   ]
  },
  {
   "cell_type": "code",
   "execution_count": 21,
   "id": "aea1623c",
   "metadata": {},
   "outputs": [
    {
     "name": "stdout",
     "output_type": "stream",
     "text": [
      "['avenger']\n"
     ]
    }
   ],
   "source": [
    "#Que clase corresponde\n",
    "print(primer_link2['class'])"
   ]
  },
  {
   "cell_type": "code",
   "execution_count": 22,
   "id": "adff7cda",
   "metadata": {},
   "outputs": [
    {
     "name": "stdout",
     "output_type": "stream",
     "text": [
      "https://es.wikipedia.org/wiki/Iron_Man\n"
     ]
    }
   ],
   "source": [
    "#Capturar el hipervinculo\n",
    "print(primer_link2['href'])"
   ]
  },
  {
   "cell_type": "code",
   "execution_count": 26,
   "id": "76d94eb8",
   "metadata": {},
   "outputs": [
    {
     "name": "stdout",
     "output_type": "stream",
     "text": [
      "Los Avengers lo conforman otros superhéroes como\n",
      "            Spiderman,\n",
      "            Antman & Wasp y\n",
      "            Hawk Eye;\n",
      "        y todos ellos también están de acuerdo en hacer el bien...sin mirar a quién.\n"
     ]
    }
   ],
   "source": [
    "#Buscar un parrafo particular\n",
    "\n",
    "parrafo = dom.find(id = 'otros-integrantes')\n",
    "print(parrafo.text)\n",
    "\n"
   ]
  },
  {
   "cell_type": "code",
   "execution_count": 29,
   "id": "1eb57b5e",
   "metadata": {},
   "outputs": [
    {
     "data": {
      "text/plain": [
       "'https://es.wikipedia.org/wiki/Spider-Man'"
      ]
     },
     "execution_count": 29,
     "metadata": {},
     "output_type": "execute_result"
    }
   ],
   "source": [
    "#De ese parrafo, capturar los 3 links\n",
    "\n",
    "links = parrafo.find_all('a')\n",
    "links[0]['href'] #La primer etiqueta A, y de esa el href"
   ]
  },
  {
   "cell_type": "code",
   "execution_count": 32,
   "id": "aae75628",
   "metadata": {},
   "outputs": [
    {
     "name": "stdout",
     "output_type": "stream",
     "text": [
      "[<p class=\"historia\">Lorem ipsum dolor, sit amet consectetur adipisicing elit. Molestias nulla voluptatem dolorum in quos quidem voluptates eos praesentium ullam totam!</p>, <p class=\"historia\" id=\"historia_larga\">Lorem ipsum dolor sit amet consectetur adipisicing elit. Adipisci, quis maiores animi, beatae assumenda autem nihil dolore maxime consequuntur, corrupti reiciendis exercitationem. Rerum aspernatur et fuga ipsa illo ratione excepturi laudantium, consequatur magnam nesciunt. Cumque nulla perferendis, tenetur soluta quae facilis, ea nobis quidem, placeat voluptatem laborum iusto earum. Recusandae alias eligendi incidunt aspernatur repudiandae voluptates eaque atque ipsa debitis! Officia, soluta blanditiis officiis molestiae perferendis neque, temporibus excepturi, molestias necessitatibus dolore modi eaque hic animi accusantium accusamus eveniet! Velit, molestiae nesciunt reiciendis placeat, beatae minus corrupti fuga vitae nostrum necessitatibus blanditiis cumque at ducimus temporibus ullam. Totam, omnis deserunt.</p>, <p class=\"historia\" data-minumero=\"124124\" id=\"otros-integrantes\">Los Avengers lo conforman otros superhéroes como\n",
      "            <a class=\"avenger\" href=\"https://es.wikipedia.org/wiki/Spider-Man\" id=\"link4\">Spiderman</a>,\n",
      "            <a class=\"avenger\" href=\"https://es.wikipedia.org/wiki/Ant-Man_and_the_Wasp\" id=\"link5\">Antman &amp; Wasp</a> y\n",
      "            <a class=\"avenger\" href=\"https://es.wikipedia.org/wiki/Ojo_de_Halc%C3%B3n\" id=\"link6\">Hawk Eye</a>;\n",
      "        y todos ellos también están de acuerdo en hacer el bien...sin mirar a quién.</p>]\n"
     ]
    }
   ],
   "source": [
    "parrafo_historia = dom.find_all('p',class_='historia') #el _ es por que class es reservada de python y yo quiero que busque una\n",
    "print(parrafo_historia)\n"
   ]
  },
  {
   "cell_type": "code",
   "execution_count": 33,
   "id": "b89f2c75",
   "metadata": {},
   "outputs": [
    {
     "name": "stdout",
     "output_type": "stream",
     "text": [
      "[<p class=\"historia\">Lorem ipsum dolor, sit amet consectetur adipisicing elit. Molestias nulla voluptatem dolorum in quos quidem voluptates eos praesentium ullam totam!</p>, <p class=\"historia\" id=\"historia_larga\">Lorem ipsum dolor sit amet consectetur adipisicing elit. Adipisci, quis maiores animi, beatae assumenda autem nihil dolore maxime consequuntur, corrupti reiciendis exercitationem. Rerum aspernatur et fuga ipsa illo ratione excepturi laudantium, consequatur magnam nesciunt. Cumque nulla perferendis, tenetur soluta quae facilis, ea nobis quidem, placeat voluptatem laborum iusto earum. Recusandae alias eligendi incidunt aspernatur repudiandae voluptates eaque atque ipsa debitis! Officia, soluta blanditiis officiis molestiae perferendis neque, temporibus excepturi, molestias necessitatibus dolore modi eaque hic animi accusantium accusamus eveniet! Velit, molestiae nesciunt reiciendis placeat, beatae minus corrupti fuga vitae nostrum necessitatibus blanditiis cumque at ducimus temporibus ullam. Totam, omnis deserunt.</p>, <p class=\"historia\" data-minumero=\"124124\" id=\"otros-integrantes\">Los Avengers lo conforman otros superhéroes como\n",
      "            <a class=\"avenger\" href=\"https://es.wikipedia.org/wiki/Spider-Man\" id=\"link4\">Spiderman</a>,\n",
      "            <a class=\"avenger\" href=\"https://es.wikipedia.org/wiki/Ant-Man_and_the_Wasp\" id=\"link5\">Antman &amp; Wasp</a> y\n",
      "            <a class=\"avenger\" href=\"https://es.wikipedia.org/wiki/Ojo_de_Halc%C3%B3n\" id=\"link6\">Hawk Eye</a>;\n",
      "        y todos ellos también están de acuerdo en hacer el bien...sin mirar a quién.</p>]\n"
     ]
    }
   ],
   "source": [
    "parrafo_historia2 = dom.find_all('p', attrs={'class': 'historia'})\n",
    "print(parrafo_historia2)"
   ]
  },
  {
   "cell_type": "code",
   "execution_count": 34,
   "id": "dd7641dc",
   "metadata": {},
   "outputs": [
    {
     "name": "stdout",
     "output_type": "stream",
     "text": [
      "<p class=\"historia\" data-minumero=\"124124\" id=\"otros-integrantes\">Los Avengers lo conforman otros superhéroes como\n",
      "            <a class=\"avenger\" href=\"https://es.wikipedia.org/wiki/Spider-Man\" id=\"link4\">Spiderman</a>,\n",
      "            <a class=\"avenger\" href=\"https://es.wikipedia.org/wiki/Ant-Man_and_the_Wasp\" id=\"link5\">Antman &amp; Wasp</a> y\n",
      "            <a class=\"avenger\" href=\"https://es.wikipedia.org/wiki/Ojo_de_Halc%C3%B3n\" id=\"link6\">Hawk Eye</a>;\n",
      "        y todos ellos también están de acuerdo en hacer el bien...sin mirar a quién.</p>\n"
     ]
    }
   ],
   "source": [
    "historia = dom.find(attrs={'data-minumero': '124124'})\n",
    "print(historia)"
   ]
  },
  {
   "cell_type": "markdown",
   "id": "1a8f6ee0",
   "metadata": {},
   "source": [
    "# Otro ejemplo"
   ]
  },
  {
   "cell_type": "code",
   "execution_count": 37,
   "id": "44a3d4e7",
   "metadata": {},
   "outputs": [],
   "source": [
    "from bs4 import BeautifulSoup as BS\n",
    "import requests "
   ]
  },
  {
   "cell_type": "code",
   "execution_count": 45,
   "id": "48ff0e3e",
   "metadata": {},
   "outputs": [],
   "source": [
    "url = 'https://www.cuspide.com/cienmasvendidos'"
   ]
  },
  {
   "cell_type": "code",
   "execution_count": 46,
   "id": "c3689626",
   "metadata": {},
   "outputs": [],
   "source": [
    "respuesta = requests.get(url)\n",
    "respuesta.encoding = 'utf-8'"
   ]
  },
  {
   "cell_type": "code",
   "execution_count": 48,
   "id": "a400fb3f",
   "metadata": {},
   "outputs": [],
   "source": [
    "html = respuesta.text\n"
   ]
  },
  {
   "cell_type": "code",
   "execution_count": 51,
   "id": "a82f747b",
   "metadata": {},
   "outputs": [],
   "source": [
    "#ahora despues de leerlo lo paso con BS\n",
    "\n",
    "dom = BS(html, features='html.parser')"
   ]
  },
  {
   "cell_type": "code",
   "execution_count": 66,
   "id": "750d8ecc",
   "metadata": {},
   "outputs": [
    {
     "data": {
      "text/plain": [
       "'De Mayor Quiero Ser ... Feliz'"
      ]
     },
     "execution_count": 66,
     "metadata": {},
     "output_type": "execute_result"
    }
   ],
   "source": [
    "libros = dom.find_all('article')\n",
    "libros[0].figure.div.a['title'] #puedo entrar uno por uno como atributo "
   ]
  },
  {
   "cell_type": "code",
   "execution_count": 73,
   "id": "f5d1a597",
   "metadata": {
    "code_folding": []
   },
   "outputs": [
    {
     "name": "stdout",
     "output_type": "stream",
     "text": [
      "1 De Mayor Quiero Ser ... Feliz\n",
      "2 Una Familia Anormal\n",
      "3 Perfectos Mentirosos\n",
      "4 Las Señoritas\n",
      "5 La Batalla Del Futuro\n",
      "6 La Vida Invisible De Addie Larue\n",
      "7 Yo Recordare Por Ustedes\n",
      "8 Matilde Debe Morir\n",
      "9 Una Luz Fuerte Y Brillante\n",
      "10 La Tia Cosima\n",
      "11 Todo Este Tiempo\n",
      "12 Heist\n",
      "13 Invictor Y Mayo En Busca De La Esmeralda\n",
      "14 Un Cuento Perfecto\n",
      "15 El Funcionamiento General Del Mundo\n",
      "16 Simplemente Charli\n",
      "17 Despues\n",
      "18 Lore\n",
      "19 El Libro De Los Peque/Os Grandes Artistas\n",
      "20 Rota Se Camina Igual\n",
      "21 Los Compas Perdidos En El Espacio\n",
      "22 Hecha De Estrellas\n",
      "23 Asesino De Brujas  ( Libro 2 Saga Asesino De Brujas )\n",
      "24 1. Anne , La De Tejados Verdes\n",
      "25 1. Harry Potter Y La Piedra Filosofal ( Bolsillo )\n",
      "26 100 Preguntas Y Respuestas Sobre Crianza Respetuosa\n",
      "27 Catedrales\n",
      "28 Las Gratitudes\n",
      "29 ( Mal ) Educadas\n",
      "30 Los Cuatro Acuerdos\n",
      "31 Heartstopper 2\n",
      "32 Ariadna\n",
      "33 1. El Ladron Del Rayo ( Percy Jackson Y Los Dioses Del Olimpo )\n",
      "34 Populismo Jesuita\n",
      "35 Still With You\n",
      "36 Las Malas\n",
      "37 Una Familia Anormal\n",
      "38 Una Familia Anormal\n",
      "39 Heartstopper 3\n",
      "40 De Pronto Oigo La Voz Del Agua\n",
      "41 A Traves De Mi Ventana\n",
      "42 En El Limbo\n",
      "43 Caos\n",
      "44 Cometierra\n",
      "45 Nadar De Noche\n",
      "46 Una Familia Anormal\n",
      "47 Volver A Vivir\n",
      "48 Rojava\n",
      "49 De Animales A Dioses\n",
      "50 El Manuscrito\n",
      "51 La Moneda En El Aire\n",
      "52 Padre Rico , Padre Pobre ( 20 Años )\n",
      "53 Farmaco\n",
      "54 Yoga\n",
      "55 Cinder  ( Libro 1 De La Saga Cronicas Lunares )\n",
      "56 Hay Momentos Que Deberian Ser Eternos\n",
      "57 Nosotros , Los Caserta\n",
      "58 Breve Historia Del Antipopulismo\n",
      "59 Las Cosas Que Perdimos En El Fuego\n",
      "60 Borges Y Yo\n",
      "61 Una Historia Argentina En Tiempo Real\n",
      "62 El Principito  (Bolsillo)\n",
      "63 Asylum\n",
      "64 La Vaca Se Empaca\n",
      "65 La Batalla Final De Cristina\n",
      "66 33 Razones Para Volver A Verte  ( Libro 1 Serie Volver A Ti )\n",
      "67 El Camion De Bomberos\n",
      "68 3. Harry Potter Y El Prisionero De Azkaban ( Bolsillo )\n",
      "69 La Anomalia\n",
      "70 Ser Humanos\n",
      "71 Cuentos Cortos Para Soñar\n",
      "72 Burundi : De Largos Misterios Y Lineas Perdidas\n",
      "73 Juga Con Lyna\n",
      "74 Una Abuela Anormal\n",
      "75 Susurros De Belleza\n",
      "76 El Mundo De Lyna\n",
      "77 Enciclopedia De Los Cuentos Clasicos\n",
      "78 2. El Mar De Los Monstruos ( Percy Jackson Y Los Dioses Del Olimpo )\n",
      "79 2. Harry Potter Y La Camara Secreta ( Bolsillo )\n",
      "80 Miserias Hipermodernas\n",
      "81 Criar Con Empatia\n",
      "82 2. Anne, La De Tejados Verdes : Anne, La De Avonlea\n",
      "83 Seras\n",
      "84 La Vida Es Una Mision Secreta\n",
      "85 La Mansion\n",
      "86 Secretos Al Alba\n",
      "87 Los Llanos\n"
     ]
    }
   ],
   "source": [
    "#for libro in libros:\n",
    "#    print(libro.figure.div.a['title'])\n",
    "\n",
    "for i in range(len(libros)):\n",
    "    print(i+1, libros[i].figure.div.a['title'])"
   ]
  },
  {
   "cell_type": "code",
   "execution_count": 74,
   "id": "133ad149",
   "metadata": {},
   "outputs": [],
   "source": [
    "# Scrapear Ambito Financiero"
   ]
  },
  {
   "cell_type": "code",
   "execution_count": 91,
   "id": "64dcb15f",
   "metadata": {},
   "outputs": [],
   "source": [
    "url = 'https://www.ambito.com'\n",
    "\n",
    "respuesta = requests.get(url)\n",
    "respuesta.ecoding= 'utf-8'\n",
    "html = respuesta.text"
   ]
  },
  {
   "cell_type": "code",
   "execution_count": 92,
   "id": "8286ff7b",
   "metadata": {},
   "outputs": [],
   "source": [
    "dom = BS(html, features='html.parser')\n"
   ]
  },
  {
   "cell_type": "code",
   "execution_count": 95,
   "id": "1322bb63",
   "metadata": {},
   "outputs": [],
   "source": [
    "titulares = dom.find_all(class_='title')"
   ]
  },
  {
   "cell_type": "code",
   "execution_count": 96,
   "id": "e39296d1",
   "metadata": {},
   "outputs": [],
   "source": [
    "tabla = [['N:', 'Titulo', 'Link']]"
   ]
  },
  {
   "cell_type": "code",
   "execution_count": 97,
   "id": "565a021d",
   "metadata": {},
   "outputs": [
    {
     "data": {
      "text/plain": [
       "' Dólar y blue: ¿por qué el mercado mira la brecha?'"
      ]
     },
     "execution_count": 97,
     "metadata": {},
     "output_type": "execute_result"
    }
   ],
   "source": [
    "titulares[2].text"
   ]
  },
  {
   "cell_type": "code",
   "execution_count": 101,
   "id": "c28eaae1",
   "metadata": {},
   "outputs": [],
   "source": [
    "contador =1\n",
    "for titular in titulares:\n",
    "    titulo = titular.text\n",
    "    link = titular.a['href']\n",
    "    contador +=1\n",
    "    fila =[contador, titulo, link]\n",
    "    tabla.append(fila)"
   ]
  },
  {
   "cell_type": "code",
   "execution_count": 104,
   "id": "54ff45af",
   "metadata": {},
   "outputs": [],
   "source": [
    "import csv\n",
    "with open('noticias.csv','w', newline='', ) as file:\n",
    "    salida = csv.writer(file)\n",
    "    salida.writerows(tabla)"
   ]
  },
  {
   "cell_type": "markdown",
   "id": "b9d5958e",
   "metadata": {},
   "source": [
    "### Ejercicio \n",
    "\n",
    "* Buscar en kuspide el nombre del libro y el precio hacer un cvs\n"
   ]
  },
  {
   "cell_type": "code",
   "execution_count": 105,
   "id": "c96e2ff4",
   "metadata": {},
   "outputs": [],
   "source": [
    "import requests\n",
    "from bs4 import BeautifulSoup as BS\n",
    "\n",
    "url = 'https://www.cuspide.com/cienmasvendidos'"
   ]
  },
  {
   "cell_type": "code",
   "execution_count": 109,
   "id": "22c9a98c",
   "metadata": {},
   "outputs": [],
   "source": [
    "respuesta = requests.get(url)\n",
    "respuesta.encoding='utf-8'"
   ]
  },
  {
   "cell_type": "code",
   "execution_count": 111,
   "id": "88082ef3",
   "metadata": {},
   "outputs": [],
   "source": [
    "html= respuesta.text\n"
   ]
  },
  {
   "cell_type": "code",
   "execution_count": 112,
   "id": "7bd97541",
   "metadata": {},
   "outputs": [],
   "source": [
    "dominio = BS(html, features='html.parser')"
   ]
  },
  {
   "cell_type": "code",
   "execution_count": 121,
   "id": "6ab8c3cf",
   "metadata": {},
   "outputs": [
    {
     "data": {
      "text/plain": [
       "'Una Familia Anormal'"
      ]
     },
     "execution_count": 121,
     "metadata": {},
     "output_type": "execute_result"
    }
   ],
   "source": [
    "libros = dominio.find_all('article')\n",
    "libros[0].figure.div.a['title']"
   ]
  },
  {
   "cell_type": "code",
   "execution_count": 139,
   "id": "e9c0a85d",
   "metadata": {},
   "outputs": [
    {
     "data": {
      "text/plain": [
       "[('Una Familia Anormal',\n",
       "  'https://www.cuspide.com/Libro/9789877363326/Una+Familia+Anormal'),\n",
       " ('Las Señoritas',\n",
       "  'https://www.cuspide.com/Libro/9788426481078/Las+Se%c3%b1oritas'),\n",
       " ('Matilde Debe Morir',\n",
       "  'https://www.cuspide.com/Libro/9789874109033/Matilde+Debe+Morir'),\n",
       " ('Perfectos Mentirosos',\n",
       "  'https://www.cuspide.com/Libro/9789874924810/Perfectos+Mentirosos'),\n",
       " ('Simplemente Charli',\n",
       "  'https://www.cuspide.com/Libro/9789874924643/Simplemente+Charli'),\n",
       " ('De Mayor Quiero Ser ... Feliz',\n",
       "  'https://www.cuspide.com/Libro/9789871409907/De+Mayor+Quiero+Ser+++++Feliz'),\n",
       " ('Invictor Y Mayo En Busca De La Esmeralda',\n",
       "  'https://www.cuspide.com/Libro/9789877363388/Invictor+Y+Mayo+En+Busca+De+La+Esmeralda'),\n",
       " ('La Vida Invisible De Addie Larue',\n",
       "  'https://www.cuspide.com/Libro/9789874777751/La+Vida+Invisible+De+Addie+Larue'),\n",
       " ('Una Familia Anormal',\n",
       "  'https://www.cuspide.com/Libro/9789877362633/Una+Familia+Anormal'),\n",
       " ('Todo Este Tiempo',\n",
       "  'https://www.cuspide.com/Libro/9789871997480/Todo+Este+Tiempo'),\n",
       " ('Heist', 'https://www.cuspide.com/Libro/9789874924773/Heist'),\n",
       " ('La Batalla Del Futuro',\n",
       "  'https://www.cuspide.com/Libro/9789877187045/La+Batalla+Del+Futuro'),\n",
       " ('Una Familia Anormal',\n",
       "  'https://www.cuspide.com/Libro/9789877362916/Una+Familia+Anormal'),\n",
       " ('Una Familia Anormal',\n",
       "  'https://www.cuspide.com/Libro/9789877362459/Una+Familia+Anormal'),\n",
       " ('1. Anne , La De Tejados Verdes',\n",
       "  'https://www.cuspide.com/Libro/9788418128950/1++Anne+++La+De+Tejados+Verdes'),\n",
       " ('Un Cuento Perfecto',\n",
       "  'https://www.cuspide.com/Libro/9789877391695/Un+Cuento+Perfecto'),\n",
       " ('1. Harry Potter Y La Piedra Filosofal ( Bolsillo )',\n",
       "  'https://www.cuspide.com/Libro/9789878000107/1++Harry+Potter+Y+La+Piedra+Filosofal+(+Bolsillo+)'),\n",
       " ('El Mundo De Lyna',\n",
       "  'https://www.cuspide.com/Libro/9789877362985/El+Mundo+De+Lyna'),\n",
       " ('Yo Recordare Por Ustedes',\n",
       "  'https://www.cuspide.com/Libro/9789500440882/Yo+Recordare+Por+Ustedes'),\n",
       " ('Todo Lo Que Nunca Fuimos',\n",
       "  'https://www.cuspide.com/Libro/9789504973737/Todo+Lo+Que+Nunca+Fuimos'),\n",
       " ('Una Abuela Anormal',\n",
       "  'https://www.cuspide.com/Libro/9789877363272/Una+Abuela+Anormal'),\n",
       " ('Todo Lo Que Somos Juntos',\n",
       "  'https://www.cuspide.com/Libro/9789504973317/Todo+Lo+Que+Somos+Juntos'),\n",
       " ('1. El Ladron Del Rayo ( Percy Jackson Y Los Dioses Del Olimpo )',\n",
       "  'https://www.cuspide.com/Libro/9789878000183/1++El+Ladron+Del+Rayo+(+Percy+Jackson+Y+Los+Dioses+Del+Olimpo+)'),\n",
       " ('La Tia Cosima',\n",
       "  'https://www.cuspide.com/Libro/9789877391480/La+Tia+Cosima'),\n",
       " ('Juga Con Lyna',\n",
       "  'https://www.cuspide.com/Libro/9789877362992/Juga+Con+Lyna'),\n",
       " ('Una Luz Fuerte Y Brillante',\n",
       "  'https://www.cuspide.com/Libro/9789500440752/Una+Luz+Fuerte+Y+Brillante'),\n",
       " ('Still With You',\n",
       "  'https://www.cuspide.com/Libro/9789504974437/Still+With+You'),\n",
       " ('El Funcionamiento General Del Mundo',\n",
       "  'https://www.cuspide.com/Libro/9789877387858/El+Funcionamiento+General+Del+Mundo'),\n",
       " ('El Libro De Los Peque/Os Grandes Artistas',\n",
       "  'https://www.cuspide.com/Libro/9789878358369/El+Libro+De+Los+Peque+Os+Grandes+Artistas'),\n",
       " ('Lore', 'https://www.cuspide.com/Libro/9789874132468/Lore'),\n",
       " ('Hecha De Estrellas',\n",
       "  'https://www.cuspide.com/Libro/9789877475050/Hecha+De+Estrellas'),\n",
       " ('Despues', 'https://www.cuspide.com/Libro/9789506445614/Despues'),\n",
       " ('Cinder  ( Libro 1 De La Saga Cronicas Lunares )',\n",
       "  'https://www.cuspide.com/Libro/9789876129275/Cinder++(+Libro+1+De+La+Saga+Cronicas+Lunares+)'),\n",
       " ('Riusplay Y El Hechizo De La Luna Llena',\n",
       "  'https://www.cuspide.com/Libro/9789877363302/Riusplay+Y+El+Hechizo+De+La+Luna+Llena'),\n",
       " ('Un Vecino Anormal',\n",
       "  'https://www.cuspide.com/Libro/9789877363074/Un+Vecino+Anormal'),\n",
       " ('Los Cuatro Acuerdos',\n",
       "  'https://www.cuspide.com/Libro/9789507880223/Los+Cuatro+Acuerdos'),\n",
       " ('Los Compas Y La Camara Del Tiempo',\n",
       "  'https://www.cuspide.com/Libro/9789508701701/Los+Compas+Y+La+Camara+Del+Tiempo'),\n",
       " ('Asesino De Brujas  ( Libro 2 Saga Asesino De Brujas )',\n",
       "  'https://www.cuspide.com/Libro/9789874132383/Asesino+De+Brujas++(+Libro+2+Saga+Asesino+De+Brujas+)'),\n",
       " ('Ariadna', 'https://www.cuspide.com/Libro/9789874777799/Ariadna'),\n",
       " ('Heartstopper 3',\n",
       "  'https://www.cuspide.com/Libro/9789877476972/Heartstopper+3'),\n",
       " ('Yoga', 'https://www.cuspide.com/Libro/9788433980847/Yoga'),\n",
       " ('Cuentos Cortos Para Soñar 3',\n",
       "  'https://www.cuspide.com/Libro/9789500211178/Cuentos+Cortos+Para+So%c3%b1ar+3'),\n",
       " ('35. Gaturro', 'https://www.cuspide.com/Libro/9789505158782/35++Gaturro'),\n",
       " ('A Traves De Mi Ventana',\n",
       "  'https://www.cuspide.com/Libro/9789877385991/A+Traves+De+Mi+Ventana'),\n",
       " ('2. Anne, La De Tejados Verdes : Anne, La De Avonlea',\n",
       "  'https://www.cuspide.com/Libro/9788418538261/2++Anne++La+De+Tejados+Verdes+++Anne++La+De+Avonlea'),\n",
       " ('Catedrales', 'https://www.cuspide.com/Libro/9789877386875/Catedrales'),\n",
       " ('Escape Book : Prisionero Del Overworld',\n",
       "  'https://www.cuspide.com/Libro/9789871713271/Escape+Book+++Prisionero+Del+Overworld'),\n",
       " ('2. Harry Potter Y La Camara Secreta ( Bolsillo )',\n",
       "  'https://www.cuspide.com/Libro/9789878000114/2++Harry+Potter+Y+La+Camara+Secreta+(+Bolsillo+)'),\n",
       " ('Heartstopper 2',\n",
       "  'https://www.cuspide.com/Libro/9789877476583/Heartstopper+2'),\n",
       " ('( Mal ) Educadas',\n",
       "  'https://www.cuspide.com/Libro/9789504971290/(+Mal+)+Educadas'),\n",
       " ('Cuentos Cortos Para Soñar 2',\n",
       "  'https://www.cuspide.com/Libro/9789500210416/Cuentos+Cortos+Para+So%c3%b1ar+2'),\n",
       " ('Cuentos Cortos Para Soñar',\n",
       "  'https://www.cuspide.com/Libro/9789500210157/Cuentos+Cortos+Para+So%c3%b1ar'),\n",
       " ('Enciclopedia De Los Cuentos Clasicos',\n",
       "  'https://www.cuspide.com/Libro/9789877975437/Enciclopedia+De+Los+Cuentos+Clasicos'),\n",
       " ('Rota Se Camina Igual',\n",
       "  'https://www.cuspide.com/Libro/9789871882878/Rota+Se+Camina+Igual'),\n",
       " ('Los Compas Perdidos En El Espacio',\n",
       "  'https://www.cuspide.com/Libro/9789508701800/Los+Compas+Perdidos+En+El+Espacio'),\n",
       " ('Cometierra', 'https://www.cuspide.com/Libro/9789874063656/Cometierra'),\n",
       " ('Matilde Decide Vivir',\n",
       "  'https://www.cuspide.com/Libro/9789874109958/Matilde+Decide+Vivir'),\n",
       " ('Diario De Pilar En Amazonas',\n",
       "  'https://www.cuspide.com/Libro/9789876129183/Diario+De+Pilar+En+Amazonas'),\n",
       " ('Caos', 'https://www.cuspide.com/Libro/9789500761277/Caos'),\n",
       " ('Pokemon Guia Oficial De La Region Galar',\n",
       "  'https://www.cuspide.com/Libro/9789874924681/Pokemon+Guia+Oficial+De+La+Region+Galar'),\n",
       " ('Cuentos Cortos Para Soñar 4',\n",
       "  'https://www.cuspide.com/Libro/9789500211925/Cuentos+Cortos+Para+So%c3%b1ar+4'),\n",
       " ('Burundi : De Largos Misterios Y Lineas Perdidas',\n",
       "  'https://www.cuspide.com/Libro/9789876379052/Burundi+++De+Largos+Misterios+Y+Lineas+Perdidas'),\n",
       " ('Asesino De Brujas  ( Libro 1 Saga Asesino De Brujas )',\n",
       "  'https://www.cuspide.com/Libro/9789874132390/Asesino+De+Brujas++(+Libro+1+Saga+Asesino+De+Brujas+)'),\n",
       " ('El Manuscrito',\n",
       "  'https://www.cuspide.com/Libro/9789506445584/El+Manuscrito'),\n",
       " ('Las Gratitudes',\n",
       "  'https://www.cuspide.com/Libro/9788433980830/Las+Gratitudes'),\n",
       " ('Las Malas', 'https://www.cuspide.com/Libro/9789876704816/Las+Malas'),\n",
       " ('Diario De Pilar En Egipto',\n",
       "  'https://www.cuspide.com/Libro/9789877471311/Diario+De+Pilar+En+Egipto'),\n",
       " ('Diario De Pilar En Machu Picchu',\n",
       "  'https://www.cuspide.com/Libro/9789877473063/Diario+De+Pilar+En+Machu+Picchu'),\n",
       " ('1. Harry Potter Y La Piedra Filosofal',\n",
       "  'https://www.cuspide.com/Libro/9789878000404/1++Harry+Potter+Y+La+Piedra+Filosofal'),\n",
       " ('Una Educacion Mortal',\n",
       "  'https://www.cuspide.com/Libro/9789874777744/Una+Educacion+Mortal'),\n",
       " ('Una Historia Argentina En Tiempo Real',\n",
       "  'https://www.cuspide.com/Libro/9789504970804/Una+Historia+Argentina+En+Tiempo+Real'),\n",
       " ('3. Harry Potter Y El Prisionero De Azkaban ( Bolsillo )',\n",
       "  'https://www.cuspide.com/Libro/9789878000121/3++Harry+Potter+Y+El+Prisionero+De+Azkaban+(+Bolsillo+)'),\n",
       " ('Heartstopper', 'https://www.cuspide.com/Libro/9789877475876/Heartstopper'),\n",
       " ('La Tierra De Las Historias  ( Libro 1 De La Tierra De Las Historias )',\n",
       "  'https://www.cuspide.com/Libro/9789877470628/La+Tierra+De+Las+Historias++(+Libro+1+De+La+Tierra+De+Las+Historias+)'),\n",
       " ('Las Cosas Que Perdimos En El Fuego',\n",
       "  'https://www.cuspide.com/Libro/9788433998064/Las+Cosas+Que+Perdimos+En+El+Fuego'),\n",
       " ('En El Limbo', 'https://www.cuspide.com/Libro/9789500764025/En+El+Limbo'),\n",
       " ('33 Razones Para Volver A Verte  ( Libro 1 Serie Volver A Ti )',\n",
       "  'https://www.cuspide.com/Libro/9789874568670/33+Razones+Para+Volver+A+Verte++(+Libro+1+Serie+Volver+A+Ti+)'),\n",
       " ('La Selva', 'https://www.cuspide.com/Libro/9789876375696/La+Selva'),\n",
       " ('Nosotros , Los Caserta',\n",
       "  'https://www.cuspide.com/Libro/9789876706476/Nosotros+++Los+Caserta'),\n",
       " ('Nadar De Noche',\n",
       "  'https://www.cuspide.com/Libro/9789500438414/Nadar+De+Noche'),\n",
       " ('La Vaca Se Empaca',\n",
       "  'https://www.cuspide.com/Libro/9789878661735/La+Vaca+Se+Empaca'),\n",
       " ('Padre Rico , Padre Pobre ( 20 Años )',\n",
       "  'https://www.cuspide.com/Libro/9789877253146/Padre+Rico+++Padre+Pobre+(+20+A%c3%b1os+)'),\n",
       " ('Burundi : De Espejos , Alturas Y Jirafas',\n",
       "  'https://www.cuspide.com/Libro/9789876378888/Burundi+++De+Espejos+++Alturas+Y+Jirafas'),\n",
       " ('Diario De Pilar En China',\n",
       "  'https://www.cuspide.com/Libro/9789877474299/Diario+De+Pilar+En+China'),\n",
       " ('Luca : La Historia De La Pelicula',\n",
       "  'https://www.cuspide.com/Libro/9789877975833/Luca+++La+Historia+De+La+Pelicula'),\n",
       " ('3. Banana Fish',\n",
       "  'https://www.cuspide.com/Libro/9786075680958/3++Banana+Fish'),\n",
       " ('Cuentos De Buenas Noches Para Niñas Rebeldes',\n",
       "  'https://www.cuspide.com/Libro/9789504958703/Cuentos+De+Buenas+Noches+Para+Ni%c3%b1as+Rebeldes'),\n",
       " ('Diario De Pilar En Africa',\n",
       "  'https://www.cuspide.com/Libro/9789877473711/Diario+De+Pilar+En+Africa'),\n",
       " ('Todas Nuestras Noches',\n",
       "  'https://www.cuspide.com/Libro/9789877476866/Todas+Nuestras+Noches'),\n",
       " ('2. El Mar De Los Monstruos ( Percy Jackson Y Los Dioses Del Olimpo )',\n",
       "  'https://www.cuspide.com/Libro/9789878000206/2++El+Mar+De+Los+Monstruos+(+Percy+Jackson+Y+Los+Dioses+Del+Olimpo+)'),\n",
       " ('Asylum', 'https://www.cuspide.com/Libro/9789876127783/Asylum'),\n",
       " ('La Granja', 'https://www.cuspide.com/Libro/9789876376624/La+Granja'),\n",
       " ('1. La Seleccion',\n",
       "  'https://www.cuspide.com/Libro/9788499186078/1++La+Seleccion'),\n",
       " ('Dimelo Bajito',\n",
       "  'https://www.cuspide.com/Libro/9789874924650/Dimelo+Bajito'),\n",
       " ('1. Caidos Del Mapa',\n",
       "  'https://www.cuspide.com/Libro/9789875040274/1++Caidos+Del+Mapa'),\n",
       " ('Rojava', 'https://www.cuspide.com/Libro/9789506445645/Rojava')]"
      ]
     },
     "execution_count": 139,
     "metadata": {},
     "output_type": "execute_result"
    }
   ],
   "source": [
    "# Armamos la lista de libros\n",
    "lista_libros = []\n",
    "\n",
    "for i in range(len(libros)):\n",
    "    lista_libros.append((libros[i].figure.div.a['title'],'https://www.cuspide.com'+libros[i].figure.div.a['href']))\n",
    "    \n",
    "    \n",
    "lista_libros\n",
    "    "
   ]
  },
  {
   "cell_type": "code",
   "execution_count": 127,
   "id": "a02c2f76",
   "metadata": {},
   "outputs": [
    {
     "data": {
      "text/plain": [
       "96"
      ]
     },
     "execution_count": 127,
     "metadata": {},
     "output_type": "execute_result"
    }
   ],
   "source": []
  },
  {
   "cell_type": "code",
   "execution_count": 133,
   "id": "e4f88be5",
   "metadata": {},
   "outputs": [
    {
     "data": {
      "text/plain": [
       "'/Libro/9789877363326/Una+Familia+Anormal'"
      ]
     },
     "execution_count": 133,
     "metadata": {},
     "output_type": "execute_result"
    }
   ],
   "source": [
    "libros[0].figure.div.a['href']"
   ]
  },
  {
   "cell_type": "code",
   "execution_count": 135,
   "id": "31858c65",
   "metadata": {},
   "outputs": [
    {
     "data": {
      "text/plain": [
       "'https://www.cuspide.com/Libro/9789877363326/Una+Familia+Anormal'"
      ]
     },
     "execution_count": 135,
     "metadata": {},
     "output_type": "execute_result"
    }
   ],
   "source": [
    "'https://www.cuspide.com'+libros[0].figure.div.a['href']"
   ]
  },
  {
   "cell_type": "code",
   "execution_count": 141,
   "id": "37f8e84c",
   "metadata": {},
   "outputs": [
    {
     "data": {
      "text/plain": [
       "'https://www.cuspide.com/Libro/9789874109033/Matilde+Debe+Morir'"
      ]
     },
     "execution_count": 141,
     "metadata": {},
     "output_type": "execute_result"
    }
   ],
   "source": [
    "lista_libros[2][1]"
   ]
  },
  {
   "cell_type": "code",
   "execution_count": 142,
   "id": "ebef2f10",
   "metadata": {},
   "outputs": [],
   "source": [
    "url_precio = lista_libros[2][1]\n",
    "resp = requests.get(url_precio)\n",
    "resp.encoding = 'utf-8'"
   ]
  },
  {
   "cell_type": "code",
   "execution_count": 145,
   "id": "b07a4948",
   "metadata": {},
   "outputs": [],
   "source": [
    "html_precio = resp.text\n",
    "dom = BS(html_precio,features='html.parser')"
   ]
  },
  {
   "cell_type": "code",
   "execution_count": 152,
   "id": "1ce187f3",
   "metadata": {},
   "outputs": [
    {
     "data": {
      "text/plain": [
       "'$985,00'"
      ]
     },
     "execution_count": 152,
     "metadata": {},
     "output_type": "execute_result"
    }
   ],
   "source": [
    "precio = dom.find('meta', attrs={'id':'ctl00_ContentPlaceHolder1_rptFicha_ctl00_meta_price'})\n",
    "precio['content']"
   ]
  },
  {
   "cell_type": "code",
   "execution_count": 179,
   "id": "7434a7c9",
   "metadata": {},
   "outputs": [
    {
     "data": {
      "text/plain": [
       "['https://www.cuspide.com/Libro/9789877363326/Una+Familia+Anormal',\n",
       " 'https://www.cuspide.com/Libro/9788426481078/Las+Se%c3%b1oritas',\n",
       " 'https://www.cuspide.com/Libro/9789874109033/Matilde+Debe+Morir',\n",
       " 'https://www.cuspide.com/Libro/9789874924810/Perfectos+Mentirosos',\n",
       " 'https://www.cuspide.com/Libro/9789874924643/Simplemente+Charli',\n",
       " 'https://www.cuspide.com/Libro/9789871409907/De+Mayor+Quiero+Ser+++++Feliz',\n",
       " 'https://www.cuspide.com/Libro/9789877363388/Invictor+Y+Mayo+En+Busca+De+La+Esmeralda',\n",
       " 'https://www.cuspide.com/Libro/9789874777751/La+Vida+Invisible+De+Addie+Larue',\n",
       " 'https://www.cuspide.com/Libro/9789877362633/Una+Familia+Anormal',\n",
       " 'https://www.cuspide.com/Libro/9789871997480/Todo+Este+Tiempo',\n",
       " 'https://www.cuspide.com/Libro/9789874924773/Heist',\n",
       " 'https://www.cuspide.com/Libro/9789877187045/La+Batalla+Del+Futuro',\n",
       " 'https://www.cuspide.com/Libro/9789877362916/Una+Familia+Anormal',\n",
       " 'https://www.cuspide.com/Libro/9789877362459/Una+Familia+Anormal',\n",
       " 'https://www.cuspide.com/Libro/9788418128950/1++Anne+++La+De+Tejados+Verdes',\n",
       " 'https://www.cuspide.com/Libro/9789877391695/Un+Cuento+Perfecto',\n",
       " 'https://www.cuspide.com/Libro/9789878000107/1++Harry+Potter+Y+La+Piedra+Filosofal+(+Bolsillo+)',\n",
       " 'https://www.cuspide.com/Libro/9789877362985/El+Mundo+De+Lyna',\n",
       " 'https://www.cuspide.com/Libro/9789500440882/Yo+Recordare+Por+Ustedes',\n",
       " 'https://www.cuspide.com/Libro/9789504973737/Todo+Lo+Que+Nunca+Fuimos',\n",
       " 'https://www.cuspide.com/Libro/9789877363272/Una+Abuela+Anormal',\n",
       " 'https://www.cuspide.com/Libro/9789504973317/Todo+Lo+Que+Somos+Juntos',\n",
       " 'https://www.cuspide.com/Libro/9789878000183/1++El+Ladron+Del+Rayo+(+Percy+Jackson+Y+Los+Dioses+Del+Olimpo+)',\n",
       " 'https://www.cuspide.com/Libro/9789877391480/La+Tia+Cosima',\n",
       " 'https://www.cuspide.com/Libro/9789877362992/Juga+Con+Lyna',\n",
       " 'https://www.cuspide.com/Libro/9789500440752/Una+Luz+Fuerte+Y+Brillante',\n",
       " 'https://www.cuspide.com/Libro/9789504974437/Still+With+You',\n",
       " 'https://www.cuspide.com/Libro/9789877387858/El+Funcionamiento+General+Del+Mundo',\n",
       " 'https://www.cuspide.com/Libro/9789878358369/El+Libro+De+Los+Peque+Os+Grandes+Artistas',\n",
       " 'https://www.cuspide.com/Libro/9789874132468/Lore',\n",
       " 'https://www.cuspide.com/Libro/9789877475050/Hecha+De+Estrellas',\n",
       " 'https://www.cuspide.com/Libro/9789506445614/Despues',\n",
       " 'https://www.cuspide.com/Libro/9789876129275/Cinder++(+Libro+1+De+La+Saga+Cronicas+Lunares+)',\n",
       " 'https://www.cuspide.com/Libro/9789877363302/Riusplay+Y+El+Hechizo+De+La+Luna+Llena',\n",
       " 'https://www.cuspide.com/Libro/9789877363074/Un+Vecino+Anormal',\n",
       " 'https://www.cuspide.com/Libro/9789507880223/Los+Cuatro+Acuerdos',\n",
       " 'https://www.cuspide.com/Libro/9789508701701/Los+Compas+Y+La+Camara+Del+Tiempo',\n",
       " 'https://www.cuspide.com/Libro/9789874132383/Asesino+De+Brujas++(+Libro+2+Saga+Asesino+De+Brujas+)',\n",
       " 'https://www.cuspide.com/Libro/9789874777799/Ariadna',\n",
       " 'https://www.cuspide.com/Libro/9789877476972/Heartstopper+3',\n",
       " 'https://www.cuspide.com/Libro/9788433980847/Yoga',\n",
       " 'https://www.cuspide.com/Libro/9789500211178/Cuentos+Cortos+Para+So%c3%b1ar+3',\n",
       " 'https://www.cuspide.com/Libro/9789505158782/35++Gaturro',\n",
       " 'https://www.cuspide.com/Libro/9789877385991/A+Traves+De+Mi+Ventana',\n",
       " 'https://www.cuspide.com/Libro/9788418538261/2++Anne++La+De+Tejados+Verdes+++Anne++La+De+Avonlea',\n",
       " 'https://www.cuspide.com/Libro/9789877386875/Catedrales',\n",
       " 'https://www.cuspide.com/Libro/9789871713271/Escape+Book+++Prisionero+Del+Overworld',\n",
       " 'https://www.cuspide.com/Libro/9789878000114/2++Harry+Potter+Y+La+Camara+Secreta+(+Bolsillo+)',\n",
       " 'https://www.cuspide.com/Libro/9789877476583/Heartstopper+2',\n",
       " 'https://www.cuspide.com/Libro/9789504971290/(+Mal+)+Educadas',\n",
       " 'https://www.cuspide.com/Libro/9789500210416/Cuentos+Cortos+Para+So%c3%b1ar+2',\n",
       " 'https://www.cuspide.com/Libro/9789500210157/Cuentos+Cortos+Para+So%c3%b1ar',\n",
       " 'https://www.cuspide.com/Libro/9789877975437/Enciclopedia+De+Los+Cuentos+Clasicos',\n",
       " 'https://www.cuspide.com/Libro/9789871882878/Rota+Se+Camina+Igual',\n",
       " 'https://www.cuspide.com/Libro/9789508701800/Los+Compas+Perdidos+En+El+Espacio',\n",
       " 'https://www.cuspide.com/Libro/9789874063656/Cometierra',\n",
       " 'https://www.cuspide.com/Libro/9789874109958/Matilde+Decide+Vivir',\n",
       " 'https://www.cuspide.com/Libro/9789876129183/Diario+De+Pilar+En+Amazonas',\n",
       " 'https://www.cuspide.com/Libro/9789500761277/Caos',\n",
       " 'https://www.cuspide.com/Libro/9789874924681/Pokemon+Guia+Oficial+De+La+Region+Galar',\n",
       " 'https://www.cuspide.com/Libro/9789500211925/Cuentos+Cortos+Para+So%c3%b1ar+4',\n",
       " 'https://www.cuspide.com/Libro/9789876379052/Burundi+++De+Largos+Misterios+Y+Lineas+Perdidas',\n",
       " 'https://www.cuspide.com/Libro/9789874132390/Asesino+De+Brujas++(+Libro+1+Saga+Asesino+De+Brujas+)',\n",
       " 'https://www.cuspide.com/Libro/9789506445584/El+Manuscrito',\n",
       " 'https://www.cuspide.com/Libro/9788433980830/Las+Gratitudes',\n",
       " 'https://www.cuspide.com/Libro/9789876704816/Las+Malas',\n",
       " 'https://www.cuspide.com/Libro/9789877471311/Diario+De+Pilar+En+Egipto',\n",
       " 'https://www.cuspide.com/Libro/9789877473063/Diario+De+Pilar+En+Machu+Picchu',\n",
       " 'https://www.cuspide.com/Libro/9789878000404/1++Harry+Potter+Y+La+Piedra+Filosofal',\n",
       " 'https://www.cuspide.com/Libro/9789874777744/Una+Educacion+Mortal',\n",
       " 'https://www.cuspide.com/Libro/9789504970804/Una+Historia+Argentina+En+Tiempo+Real',\n",
       " 'https://www.cuspide.com/Libro/9789878000121/3++Harry+Potter+Y+El+Prisionero+De+Azkaban+(+Bolsillo+)',\n",
       " 'https://www.cuspide.com/Libro/9789877475876/Heartstopper',\n",
       " 'https://www.cuspide.com/Libro/9789877470628/La+Tierra+De+Las+Historias++(+Libro+1+De+La+Tierra+De+Las+Historias+)',\n",
       " 'https://www.cuspide.com/Libro/9788433998064/Las+Cosas+Que+Perdimos+En+El+Fuego',\n",
       " 'https://www.cuspide.com/Libro/9789500764025/En+El+Limbo',\n",
       " 'https://www.cuspide.com/Libro/9789874568670/33+Razones+Para+Volver+A+Verte++(+Libro+1+Serie+Volver+A+Ti+)',\n",
       " 'https://www.cuspide.com/Libro/9789876375696/La+Selva',\n",
       " 'https://www.cuspide.com/Libro/9789876706476/Nosotros+++Los+Caserta',\n",
       " 'https://www.cuspide.com/Libro/9789500438414/Nadar+De+Noche',\n",
       " 'https://www.cuspide.com/Libro/9789878661735/La+Vaca+Se+Empaca',\n",
       " 'https://www.cuspide.com/Libro/9789877253146/Padre+Rico+++Padre+Pobre+(+20+A%c3%b1os+)',\n",
       " 'https://www.cuspide.com/Libro/9789876378888/Burundi+++De+Espejos+++Alturas+Y+Jirafas',\n",
       " 'https://www.cuspide.com/Libro/9789877474299/Diario+De+Pilar+En+China',\n",
       " 'https://www.cuspide.com/Libro/9789877975833/Luca+++La+Historia+De+La+Pelicula',\n",
       " 'https://www.cuspide.com/Libro/9786075680958/3++Banana+Fish',\n",
       " 'https://www.cuspide.com/Libro/9789504958703/Cuentos+De+Buenas+Noches+Para+Ni%c3%b1as+Rebeldes',\n",
       " 'https://www.cuspide.com/Libro/9789877473711/Diario+De+Pilar+En+Africa',\n",
       " 'https://www.cuspide.com/Libro/9789877476866/Todas+Nuestras+Noches',\n",
       " 'https://www.cuspide.com/Libro/9789878000206/2++El+Mar+De+Los+Monstruos+(+Percy+Jackson+Y+Los+Dioses+Del+Olimpo+)',\n",
       " 'https://www.cuspide.com/Libro/9789876127783/Asylum',\n",
       " 'https://www.cuspide.com/Libro/9789876376624/La+Granja',\n",
       " 'https://www.cuspide.com/Libro/9788499186078/1++La+Seleccion',\n",
       " 'https://www.cuspide.com/Libro/9789874924650/Dimelo+Bajito',\n",
       " 'https://www.cuspide.com/Libro/9789875040274/1++Caidos+Del+Mapa',\n",
       " 'https://www.cuspide.com/Libro/9789506445645/Rojava']"
      ]
     },
     "execution_count": 179,
     "metadata": {},
     "output_type": "execute_result"
    }
   ],
   "source": [
    "urls = []\n",
    "try:\n",
    "    for i in range(len(lista_libros)):\n",
    "        urls.append(lista_libros[i][1])\n",
    "        \n",
    "except:\n",
    "    pass\n",
    "urls"
   ]
  },
  {
   "cell_type": "code",
   "execution_count": 213,
   "id": "1db4e8e3",
   "metadata": {},
   "outputs": [
    {
     "name": "stdout",
     "output_type": "stream",
     "text": [
      "['$879,00', '$1.499,00', '$985,00', '$1.399,00', '$999,00', '$899,00', '$1.399,00', '$2.150,00', '$849,00', '$1.699,00', '$1.869,00', '$1.590,00', '$849,00', '$849,00', '$985,00', '$2.499,00', '$1.599,00', '$749,00', '$1.690,00', '$1.520,00', '$849,00', '$1.520,00', '$1.599,00', '$949,00', '$749,00', '$2.050,00', '$1.490,00', '$1.799,00', '$1.275,00', '$1.990,00', '$1.139,00', '$1.999,00', '$1.399,00', '$1.299,00', '$849,00', '$1.890,00', '$1.930,00', '$1.950,00', '$1.800,00', '$999,00', '$1.595,00', '$790,00', '$638,00', '$1.749,00', '$1.395,00', '$1.699,00', '$719,00', '$1.599,00', '$999,00', '$1.320,00', '$790,00', '$790,00', '$1.539,00', '$1.369,00', '$1.790,00', '$1.100,00', '$985,00', '$829,00', '$1.649,00', '$1.289,00', '$790,00', '$990,00', '$1.790,00', '$1.999,00', '$1.295,00', '$1.560,00', '$829,00', '$829,00', '$2.049,00', '$1.750,00', '$2.690,00', '$1.599,00', '$999,00', '$1.449,00', '$1.195,00', '$1.449,00', '$1.850,00', '$2.090,00', '$1.330,00', '$1.300,00', '$1.250,00', '$1.399,00', '$990,00', '$829,00', '$799,00', '$1.100,00', '$2.170,00', '$829,00', '$1.299,00', '$1.599,00', '$1.279,00', '$2.090,00', '$1.599,00', '$1.799,00', '$899,00', '$1.499,00']\n"
     ]
    }
   ],
   "source": [
    "\n",
    "\n",
    "# Hacemos la lista Precios:\n",
    "\n",
    "precios = []\n",
    "\n",
    "for i in range(len(urls)+1):\n",
    "    try:\n",
    "        url_precio = urls[i]\n",
    "        resp = requests.get(url_precio)\n",
    "        resp.encoding = 'utf-8'\n",
    "        html_precio = resp.text\n",
    "        dom = BS(html_precio,features='html.parser')\n",
    "        precio = dom.find('meta', attrs={'id':'ctl00_ContentPlaceHolder1_rptFicha_ctl00_meta_price'})\n",
    "        precios.append(precio['content'])\n",
    "    except:\n",
    "        pass\n",
    "print(precios)\n",
    "\n",
    "\n",
    "\n",
    "\n"
   ]
  },
  {
   "cell_type": "code",
   "execution_count": 162,
   "id": "79681251",
   "metadata": {
    "code_folding": []
   },
   "outputs": [
    {
     "data": {
      "text/plain": [
       "'https://www.cuspide.com/Libro/9788426481078/Las+Se%c3%b1oritas'"
      ]
     },
     "execution_count": 162,
     "metadata": {},
     "output_type": "execute_result"
    }
   ],
   "source": [
    "urls[0]\n"
   ]
  },
  {
   "cell_type": "code",
   "execution_count": 157,
   "id": "57863dee",
   "metadata": {},
   "outputs": [
    {
     "data": {
      "text/plain": [
       "'https://www.cuspide.com/Libro/9788426481078/Las+Se%c3%b1oritas'"
      ]
     },
     "execution_count": 157,
     "metadata": {},
     "output_type": "execute_result"
    }
   ],
   "source": [
    "lista_libros[1][1]"
   ]
  },
  {
   "cell_type": "code",
   "execution_count": 242,
   "id": "f244ce91",
   "metadata": {},
   "outputs": [
    {
     "data": {
      "text/plain": [
       "[['Una Familia Anormal', 879],\n",
       " ['Las Señoritas', 1499],\n",
       " ['Matilde Debe Morir', 985],\n",
       " ['Perfectos Mentirosos', 1399],\n",
       " ['Simplemente Charli', 999],\n",
       " ['De Mayor Quiero Ser ... Feliz', 899],\n",
       " ['Invictor Y Mayo En Busca De La Esmeralda', 1399],\n",
       " ['La Vida Invisible De Addie Larue', 2150],\n",
       " ['Una Familia Anormal', 849],\n",
       " ['Todo Este Tiempo', 1699],\n",
       " ['Heist', 1869],\n",
       " ['La Batalla Del Futuro', 1590],\n",
       " ['Una Familia Anormal', 849],\n",
       " ['Una Familia Anormal', 849],\n",
       " ['1. Anne , La De Tejados Verdes', 985],\n",
       " ['Un Cuento Perfecto', 2499],\n",
       " ['1. Harry Potter Y La Piedra Filosofal ( Bolsillo )', 1599],\n",
       " ['El Mundo De Lyna', 749],\n",
       " ['Yo Recordare Por Ustedes', 1690],\n",
       " ['Todo Lo Que Nunca Fuimos', 1520],\n",
       " ['Una Abuela Anormal', 849],\n",
       " ['Todo Lo Que Somos Juntos', 1520],\n",
       " ['1. El Ladron Del Rayo ( Percy Jackson Y Los Dioses Del Olimpo )', 1599],\n",
       " ['La Tia Cosima', 949],\n",
       " ['Juga Con Lyna', 749],\n",
       " ['Una Luz Fuerte Y Brillante', 2050],\n",
       " ['Still With You', 1490],\n",
       " ['El Funcionamiento General Del Mundo', 1799],\n",
       " ['El Libro De Los Peque/Os Grandes Artistas', 1275],\n",
       " ['Lore', 1990],\n",
       " ['Hecha De Estrellas', 1139],\n",
       " ['Despues', 1999],\n",
       " ['Cinder  ( Libro 1 De La Saga Cronicas Lunares )', 1399],\n",
       " ['Riusplay Y El Hechizo De La Luna Llena', 1299],\n",
       " ['Un Vecino Anormal', 849],\n",
       " ['Los Cuatro Acuerdos', 1890],\n",
       " ['Los Compas Y La Camara Del Tiempo', 1930],\n",
       " ['Asesino De Brujas  ( Libro 2 Saga Asesino De Brujas )', 1950],\n",
       " ['Ariadna', 1800],\n",
       " ['Heartstopper 3', 999],\n",
       " ['Yoga', 1595],\n",
       " ['Cuentos Cortos Para Soñar 3', 790],\n",
       " ['35. Gaturro', 638],\n",
       " ['A Traves De Mi Ventana', 1749],\n",
       " ['2. Anne, La De Tejados Verdes : Anne, La De Avonlea', 1395],\n",
       " ['Catedrales', 1699],\n",
       " ['Escape Book : Prisionero Del Overworld', 719],\n",
       " ['2. Harry Potter Y La Camara Secreta ( Bolsillo )', 1599],\n",
       " ['Heartstopper 2', 999],\n",
       " ['( Mal ) Educadas', 1320],\n",
       " ['Cuentos Cortos Para Soñar 2', 790],\n",
       " ['Cuentos Cortos Para Soñar', 790],\n",
       " ['Enciclopedia De Los Cuentos Clasicos', 1539],\n",
       " ['Rota Se Camina Igual', 1369],\n",
       " ['Los Compas Perdidos En El Espacio', 1790],\n",
       " ['Cometierra', 1100],\n",
       " ['Matilde Decide Vivir', 985],\n",
       " ['Diario De Pilar En Amazonas', 829],\n",
       " ['Caos', 1649],\n",
       " ['Pokemon Guia Oficial De La Region Galar', 1289],\n",
       " ['Cuentos Cortos Para Soñar 4', 790],\n",
       " ['Burundi : De Largos Misterios Y Lineas Perdidas', 990],\n",
       " ['Asesino De Brujas  ( Libro 1 Saga Asesino De Brujas )', 1790],\n",
       " ['El Manuscrito', 1999],\n",
       " ['Las Gratitudes', 1295],\n",
       " ['Las Malas', 1560],\n",
       " ['Diario De Pilar En Egipto', 829],\n",
       " ['Diario De Pilar En Machu Picchu', 829],\n",
       " ['1. Harry Potter Y La Piedra Filosofal', 2049],\n",
       " ['Una Educacion Mortal', 1750],\n",
       " ['Una Historia Argentina En Tiempo Real', 2690],\n",
       " ['3. Harry Potter Y El Prisionero De Azkaban ( Bolsillo )', 1599],\n",
       " ['Heartstopper', 999],\n",
       " ['La Tierra De Las Historias  ( Libro 1 De La Tierra De Las Historias )',\n",
       "  1449],\n",
       " ['Las Cosas Que Perdimos En El Fuego', 1195],\n",
       " ['En El Limbo', 1449],\n",
       " ['33 Razones Para Volver A Verte  ( Libro 1 Serie Volver A Ti )', 1850],\n",
       " ['La Selva', 2090],\n",
       " ['Nosotros , Los Caserta', 1330],\n",
       " ['Nadar De Noche', 1300],\n",
       " ['La Vaca Se Empaca', 1250],\n",
       " ['Padre Rico , Padre Pobre ( 20 Años )', 1399],\n",
       " ['Burundi : De Espejos , Alturas Y Jirafas', 990],\n",
       " ['Diario De Pilar En China', 829],\n",
       " ['Luca : La Historia De La Pelicula', 799],\n",
       " ['3. Banana Fish', 1100],\n",
       " ['Cuentos De Buenas Noches Para Niñas Rebeldes', 2170],\n",
       " ['Diario De Pilar En Africa', 829],\n",
       " ['Todas Nuestras Noches', 1299],\n",
       " ['2. El Mar De Los Monstruos ( Percy Jackson Y Los Dioses Del Olimpo )',\n",
       "  1599],\n",
       " ['Asylum', 1279],\n",
       " ['La Granja', 2090],\n",
       " ['1. La Seleccion', 1599],\n",
       " ['Dimelo Bajito', 1799],\n",
       " ['1. Caidos Del Mapa', 899],\n",
       " ['Rojava', 1499]]"
      ]
     },
     "execution_count": 242,
     "metadata": {},
     "output_type": "execute_result"
    }
   ],
   "source": [
    "import requests\n",
    "from bs4 import BeautifulSoup as BS\n",
    "\n",
    "url = 'https://www.cuspide.com/cienmasvendidos'\n",
    "\n",
    "respuesta = requests.get(url)\n",
    "respuesta.encoding='utf-8'\n",
    "html= respuesta.text\n",
    "\n",
    "\n",
    "# Armamos la lista de libros\n",
    "lista_libros = []\n",
    "\n",
    "for i in range(len(libros)):\n",
    "    libros = dominio.find_all('article')\n",
    "    lista_libros.append((libros[i].figure.div.a['title'],'https://www.cuspide.com'+libros[i].figure.div.a['href']))\n",
    "\n",
    "# Armamos la lista URL\n",
    "\n",
    "urls = []\n",
    "try:\n",
    "    for i in range(len(lista_libros)):\n",
    "        urls.append(lista_libros[i][1])\n",
    "        \n",
    "except:\n",
    "    pass\n",
    "\n",
    "# Hacemos la lista Precios:\n",
    "\n",
    "precios = []\n",
    "\n",
    "for i in range(len(urls)+1):\n",
    "    try:\n",
    "        url_precio = urls[i]\n",
    "        resp = requests.get(url_precio)\n",
    "        resp.encoding = 'utf-8'\n",
    "        html_precio = resp.text\n",
    "        dom = BS(html_precio,features='html.parser')\n",
    "        precio = dom.find('meta', attrs={'id':'ctl00_ContentPlaceHolder1_rptFicha_ctl00_meta_price'})\n",
    "        precios.append(precio['content'])\n",
    "    except:\n",
    "        pass\n",
    "    \n",
    "# Pasamos los precios a int \n",
    "\n",
    "precios_nuevo =[]\n",
    "\n",
    "for i in range(len(precios)):\n",
    "    a = precios[i].replace('.','').replace('$','').replace(',','.').replace(\"''\",'').split(\".\")\n",
    "    int(a[0])\n",
    "    precios_nuevo.append(int(a[0]))\n",
    "\n",
    "#Armamos la lista final\n",
    "\n",
    "cuspide = []\n",
    "for i in range(len(precios)):\n",
    "    cuspide.append([lista_libros[i][0],precios_nuevo[i]])\n",
    "    \n",
    "cuspide\n"
   ]
  },
  {
   "cell_type": "code",
   "execution_count": 192,
   "id": "11bdd399",
   "metadata": {},
   "outputs": [
    {
     "data": {
      "text/plain": [
       "[['Una Familia Anormal', '$879,00'],\n",
       " ['Las Señoritas', '$1.499,00'],\n",
       " ['Matilde Debe Morir', '$985,00'],\n",
       " ['Perfectos Mentirosos', '$1.399,00'],\n",
       " ['Simplemente Charli', '$999,00'],\n",
       " ['De Mayor Quiero Ser ... Feliz', '$899,00'],\n",
       " ['Invictor Y Mayo En Busca De La Esmeralda', '$1.399,00'],\n",
       " ['La Vida Invisible De Addie Larue', '$2.150,00'],\n",
       " ['Una Familia Anormal', '$849,00'],\n",
       " ['Todo Este Tiempo', '$1.699,00'],\n",
       " ['Heist', '$1.869,00'],\n",
       " ['La Batalla Del Futuro', '$1.590,00'],\n",
       " ['Una Familia Anormal', '$849,00'],\n",
       " ['Una Familia Anormal', '$849,00'],\n",
       " ['1. Anne , La De Tejados Verdes', '$985,00'],\n",
       " ['Un Cuento Perfecto', '$2.499,00'],\n",
       " ['1. Harry Potter Y La Piedra Filosofal ( Bolsillo )', '$1.599,00'],\n",
       " ['El Mundo De Lyna', '$749,00'],\n",
       " ['Yo Recordare Por Ustedes', '$1.690,00'],\n",
       " ['Todo Lo Que Nunca Fuimos', '$1.520,00'],\n",
       " ['Una Abuela Anormal', '$849,00'],\n",
       " ['Todo Lo Que Somos Juntos', '$1.520,00'],\n",
       " ['1. El Ladron Del Rayo ( Percy Jackson Y Los Dioses Del Olimpo )',\n",
       "  '$1.599,00'],\n",
       " ['La Tia Cosima', '$949,00'],\n",
       " ['Juga Con Lyna', '$749,00'],\n",
       " ['Una Luz Fuerte Y Brillante', '$2.050,00'],\n",
       " ['Still With You', '$1.490,00'],\n",
       " ['El Funcionamiento General Del Mundo', '$1.799,00'],\n",
       " ['El Libro De Los Peque/Os Grandes Artistas', '$1.275,00'],\n",
       " ['Lore', '$1.990,00'],\n",
       " ['Hecha De Estrellas', '$1.139,00'],\n",
       " ['Despues', '$1.999,00'],\n",
       " ['Cinder  ( Libro 1 De La Saga Cronicas Lunares )', '$1.399,00'],\n",
       " ['Riusplay Y El Hechizo De La Luna Llena', '$1.299,00'],\n",
       " ['Un Vecino Anormal', '$849,00'],\n",
       " ['Los Cuatro Acuerdos', '$1.890,00'],\n",
       " ['Los Compas Y La Camara Del Tiempo', '$1.930,00'],\n",
       " ['Asesino De Brujas  ( Libro 2 Saga Asesino De Brujas )', '$1.950,00'],\n",
       " ['Ariadna', '$1.800,00'],\n",
       " ['Heartstopper 3', '$999,00'],\n",
       " ['Yoga', '$1.595,00'],\n",
       " ['Cuentos Cortos Para Soñar 3', '$790,00'],\n",
       " ['35. Gaturro', '$638,00'],\n",
       " ['A Traves De Mi Ventana', '$1.749,00'],\n",
       " ['2. Anne, La De Tejados Verdes : Anne, La De Avonlea', '$1.395,00'],\n",
       " ['Catedrales', '$1.699,00'],\n",
       " ['Escape Book : Prisionero Del Overworld', '$719,00'],\n",
       " ['2. Harry Potter Y La Camara Secreta ( Bolsillo )', '$1.599,00'],\n",
       " ['Heartstopper 2', '$999,00'],\n",
       " ['( Mal ) Educadas', '$1.320,00'],\n",
       " ['Cuentos Cortos Para Soñar 2', '$790,00'],\n",
       " ['Cuentos Cortos Para Soñar', '$790,00'],\n",
       " ['Enciclopedia De Los Cuentos Clasicos', '$1.539,00'],\n",
       " ['Rota Se Camina Igual', '$1.369,00'],\n",
       " ['Los Compas Perdidos En El Espacio', '$1.790,00'],\n",
       " ['Cometierra', '$1.100,00'],\n",
       " ['Matilde Decide Vivir', '$985,00'],\n",
       " ['Diario De Pilar En Amazonas', '$829,00'],\n",
       " ['Caos', '$1.649,00'],\n",
       " ['Pokemon Guia Oficial De La Region Galar', '$1.289,00'],\n",
       " ['Cuentos Cortos Para Soñar 4', '$790,00'],\n",
       " ['Burundi : De Largos Misterios Y Lineas Perdidas', '$990,00'],\n",
       " ['Asesino De Brujas  ( Libro 1 Saga Asesino De Brujas )', '$1.790,00'],\n",
       " ['El Manuscrito', '$1.999,00'],\n",
       " ['Las Gratitudes', '$1.295,00'],\n",
       " ['Las Malas', '$1.560,00'],\n",
       " ['Diario De Pilar En Egipto', '$829,00'],\n",
       " ['Diario De Pilar En Machu Picchu', '$829,00'],\n",
       " ['1. Harry Potter Y La Piedra Filosofal', '$2.049,00'],\n",
       " ['Una Educacion Mortal', '$1.750,00'],\n",
       " ['Una Historia Argentina En Tiempo Real', '$2.690,00'],\n",
       " ['3. Harry Potter Y El Prisionero De Azkaban ( Bolsillo )', '$1.599,00'],\n",
       " ['Heartstopper', '$999,00'],\n",
       " ['La Tierra De Las Historias  ( Libro 1 De La Tierra De Las Historias )',\n",
       "  '$1.449,00'],\n",
       " ['Las Cosas Que Perdimos En El Fuego', '$1.195,00'],\n",
       " ['En El Limbo', '$1.449,00'],\n",
       " ['33 Razones Para Volver A Verte  ( Libro 1 Serie Volver A Ti )',\n",
       "  '$1.850,00'],\n",
       " ['La Selva', '$2.090,00'],\n",
       " ['Nosotros , Los Caserta', '$1.330,00'],\n",
       " ['Nadar De Noche', '$1.300,00'],\n",
       " ['La Vaca Se Empaca', '$1.250,00'],\n",
       " ['Padre Rico , Padre Pobre ( 20 Años )', '$1.399,00'],\n",
       " ['Burundi : De Espejos , Alturas Y Jirafas', '$990,00'],\n",
       " ['Diario De Pilar En China', '$829,00'],\n",
       " ['Luca : La Historia De La Pelicula', '$799,00'],\n",
       " ['3. Banana Fish', '$1.100,00'],\n",
       " ['Cuentos De Buenas Noches Para Niñas Rebeldes', '$2.170,00'],\n",
       " ['Diario De Pilar En Africa', '$829,00'],\n",
       " ['Todas Nuestras Noches', '$1.299,00'],\n",
       " ['2. El Mar De Los Monstruos ( Percy Jackson Y Los Dioses Del Olimpo )',\n",
       "  '$1.599,00'],\n",
       " ['Asylum', '$1.279,00'],\n",
       " ['La Granja', '$2.090,00'],\n",
       " ['1. La Seleccion', '$1.599,00'],\n",
       " ['Dimelo Bajito', '$1.799,00'],\n",
       " ['1. Caidos Del Mapa', '$899,00'],\n",
       " ['Rojava', '$1.499,00']]"
      ]
     },
     "execution_count": 192,
     "metadata": {},
     "output_type": "execute_result"
    }
   ],
   "source": [
    "cuspide = []\n",
    "for i in range(len(precios)):\n",
    "    cuspide.append([lista_libros[i][0],precios[i]])\n",
    "    \n",
    "cuspide"
   ]
  },
  {
   "cell_type": "code",
   "execution_count": 193,
   "id": "73298eaf",
   "metadata": {},
   "outputs": [],
   "source": [
    "with open('cuspide.csv', 'w', newline='') as archivo_salida:\n",
    "    salida = csv.writer(archivo_salida)\n",
    "    salida.writerow(['Libro', 'Precio_ars'])\n",
    "    salida.writerows(cuspide)"
   ]
  },
  {
   "cell_type": "code",
   "execution_count": 240,
   "id": "2465ea13",
   "metadata": {},
   "outputs": [
    {
     "name": "stdout",
     "output_type": "stream",
     "text": [
      "[879, 1499, 985, 1399, 999, 899, 1399, 2150, 849, 1699, 1869, 1590, 849, 849, 985, 2499, 1599, 749, 1690, 1520, 849, 1520, 1599, 949, 749, 2050, 1490, 1799, 1275, 1990, 1139, 1999, 1399, 1299, 849, 1890, 1930, 1950, 1800, 999, 1595, 790, 638, 1749, 1395, 1699, 719, 1599, 999, 1320, 790, 790, 1539, 1369, 1790, 1100, 985, 829, 1649, 1289, 790, 990, 1790, 1999, 1295, 1560, 829, 829, 2049, 1750, 2690, 1599, 999, 1449, 1195, 1449, 1850, 2090, 1330, 1300, 1250, 1399, 990, 829, 799, 1100, 2170, 829, 1299, 1599, 1279, 2090, 1599, 1799, 899, 1499]\n"
     ]
    }
   ],
   "source": [
    "precios_nuevo =[]\n",
    "\n",
    "for i in range(len(precios)):\n",
    "    a = precios[i].replace('.','').replace('$','').replace(',','.').replace(\"''\",'').split(\".\")\n",
    "    int(a[0])\n",
    "    \n",
    "    precios_nuevo.append(int(a[0]))\n",
    "\n",
    "print(precios_nuevo)"
   ]
  },
  {
   "cell_type": "code",
   "execution_count": 241,
   "id": "b50cee5f",
   "metadata": {},
   "outputs": [
    {
     "data": {
      "text/plain": [
       "132374"
      ]
     },
     "execution_count": 241,
     "metadata": {},
     "output_type": "execute_result"
    }
   ],
   "source": [
    "sum(precios_nuevo)\n",
    "\n",
    "\n"
   ]
  },
  {
   "cell_type": "code",
   "execution_count": null,
   "id": "c050544b",
   "metadata": {},
   "outputs": [],
   "source": []
  }
 ],
 "metadata": {
  "kernelspec": {
   "display_name": "Python 3",
   "language": "python",
   "name": "python3"
  },
  "language_info": {
   "codemirror_mode": {
    "name": "ipython",
    "version": 3
   },
   "file_extension": ".py",
   "mimetype": "text/x-python",
   "name": "python",
   "nbconvert_exporter": "python",
   "pygments_lexer": "ipython3",
   "version": "3.8.5"
  },
  "toc": {
   "base_numbering": 1,
   "nav_menu": {},
   "number_sections": true,
   "sideBar": true,
   "skip_h1_title": false,
   "title_cell": "Table of Contents",
   "title_sidebar": "Contents",
   "toc_cell": false,
   "toc_position": {},
   "toc_section_display": true,
   "toc_window_display": false
  },
  "varInspector": {
   "cols": {
    "lenName": 16,
    "lenType": 16,
    "lenVar": 40
   },
   "kernels_config": {
    "python": {
     "delete_cmd_postfix": "",
     "delete_cmd_prefix": "del ",
     "library": "var_list.py",
     "varRefreshCmd": "print(var_dic_list())"
    },
    "r": {
     "delete_cmd_postfix": ") ",
     "delete_cmd_prefix": "rm(",
     "library": "var_list.r",
     "varRefreshCmd": "cat(var_dic_list()) "
    }
   },
   "types_to_exclude": [
    "module",
    "function",
    "builtin_function_or_method",
    "instance",
    "_Feature"
   ],
   "window_display": false
  }
 },
 "nbformat": 4,
 "nbformat_minor": 5
}
