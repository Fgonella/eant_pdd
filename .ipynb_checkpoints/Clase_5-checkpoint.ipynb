{
 "cells": [
  {
   "cell_type": "markdown",
   "id": "681083b4",
   "metadata": {},
   "source": [
    "# Web Scraping"
   ]
  },
  {
   "cell_type": "code",
   "execution_count": 7,
   "id": "8562b61a",
   "metadata": {},
   "outputs": [],
   "source": [
    "from bs4 import BeautifulSoup as BS"
   ]
  },
  {
   "cell_type": "code",
   "execution_count": 5,
   "id": "2ca427bb",
   "metadata": {},
   "outputs": [],
   "source": [
    "archivo_html = open('../Data/web_ejemplo.html', encoding='utf-8')"
   ]
  },
  {
   "cell_type": "code",
   "execution_count": 8,
   "id": "c2b3e8b9",
   "metadata": {},
   "outputs": [],
   "source": [
    "dom = BS(archivo_html,features= 'html.parser')"
   ]
  },
  {
   "cell_type": "code",
   "execution_count": 9,
   "id": "7930f68e",
   "metadata": {},
   "outputs": [
    {
     "data": {
      "text/plain": [
       "<html>\n",
       "<head>\n",
       "<title>La historia de los Vengadores</title>\n",
       "</head>\n",
       "<body>\n",
       "<h1>Ejemplo para Scraping</h1>\n",
       "<h2 id=\"sub-titulo\"><b>Los vengadores</b></h2>\n",
       "<p class=\"historia-principal\">Los vengadores son un grupo de super héroes; sus integrantes principales son\n",
       "            <a class=\"avenger\" href=\"https://es.wikipedia.org/wiki/Iron_Man\" id=\"link1\">Ironman</a>,\n",
       "            <a class=\"avenger\" href=\"https://es.wikipedia.org/wiki/Thor_(c%C3%B3mic)\" id=\"link2\">Thor</a> y\n",
       "            <a class=\"avenger\" href=\"https://es.wikipedia.org/wiki/Hulk\" id=\"link3\">Hulk</a>;\n",
       "        y todos ellos están de acuerdo en hacer el bien...sin mirar a quién.</p>\n",
       "<p class=\"historia\">Lorem ipsum dolor, sit amet consectetur adipisicing elit. Molestias nulla voluptatem dolorum in quos quidem voluptates eos praesentium ullam totam!</p>\n",
       "<p class=\"historia\" id=\"historia_larga\">Lorem ipsum dolor sit amet consectetur adipisicing elit. Adipisci, quis maiores animi, beatae assumenda autem nihil dolore maxime consequuntur, corrupti reiciendis exercitationem. Rerum aspernatur et fuga ipsa illo ratione excepturi laudantium, consequatur magnam nesciunt. Cumque nulla perferendis, tenetur soluta quae facilis, ea nobis quidem, placeat voluptatem laborum iusto earum. Recusandae alias eligendi incidunt aspernatur repudiandae voluptates eaque atque ipsa debitis! Officia, soluta blanditiis officiis molestiae perferendis neque, temporibus excepturi, molestias necessitatibus dolore modi eaque hic animi accusantium accusamus eveniet! Velit, molestiae nesciunt reiciendis placeat, beatae minus corrupti fuga vitae nostrum necessitatibus blanditiis cumque at ducimus temporibus ullam. Totam, omnis deserunt.</p>\n",
       "<span class=\"historia\">Lorem, ipsum dolor sit amet consectetur adipisicing elit. Esse vitae deleniti hic a dolor tempora, autem magnam inventore quo doloribus illo ducimus eligendi facere nisi ratione aperiam deserunt aut minima.</span>\n",
       "<p class=\"historia\" data-minumero=\"124124\" id=\"otros-integrantes\">Los Avengers lo conforman otros superhéroes como\n",
       "            <a class=\"avenger\" href=\"https://es.wikipedia.org/wiki/Spider-Man\" id=\"link4\">Spiderman</a>,\n",
       "            <a class=\"avenger\" href=\"https://es.wikipedia.org/wiki/Ant-Man_and_the_Wasp\" id=\"link5\">Antman &amp; Wasp</a> y\n",
       "            <a class=\"avenger\" href=\"https://es.wikipedia.org/wiki/Ojo_de_Halc%C3%B3n\" id=\"link6\">Hawk Eye</a>;\n",
       "        y todos ellos también están de acuerdo en hacer el bien...sin mirar a quién.</p>\n",
       "</body>\n",
       "</html>"
      ]
     },
     "execution_count": 9,
     "metadata": {},
     "output_type": "execute_result"
    }
   ],
   "source": [
    "dom\n"
   ]
  },
  {
   "cell_type": "code",
   "execution_count": 11,
   "id": "59858d3b",
   "metadata": {},
   "outputs": [
    {
     "name": "stdout",
     "output_type": "stream",
     "text": [
      "<bound method Tag.prettify of <html>\n",
      "<head>\n",
      "<title>La historia de los Vengadores</title>\n",
      "</head>\n",
      "<body>\n",
      "<h1>Ejemplo para Scraping</h1>\n",
      "<h2 id=\"sub-titulo\"><b>Los vengadores</b></h2>\n",
      "<p class=\"historia-principal\">Los vengadores son un grupo de super héroes; sus integrantes principales son\n",
      "            <a class=\"avenger\" href=\"https://es.wikipedia.org/wiki/Iron_Man\" id=\"link1\">Ironman</a>,\n",
      "            <a class=\"avenger\" href=\"https://es.wikipedia.org/wiki/Thor_(c%C3%B3mic)\" id=\"link2\">Thor</a> y\n",
      "            <a class=\"avenger\" href=\"https://es.wikipedia.org/wiki/Hulk\" id=\"link3\">Hulk</a>;\n",
      "        y todos ellos están de acuerdo en hacer el bien...sin mirar a quién.</p>\n",
      "<p class=\"historia\">Lorem ipsum dolor, sit amet consectetur adipisicing elit. Molestias nulla voluptatem dolorum in quos quidem voluptates eos praesentium ullam totam!</p>\n",
      "<p class=\"historia\" id=\"historia_larga\">Lorem ipsum dolor sit amet consectetur adipisicing elit. Adipisci, quis maiores animi, beatae assumenda autem nihil dolore maxime consequuntur, corrupti reiciendis exercitationem. Rerum aspernatur et fuga ipsa illo ratione excepturi laudantium, consequatur magnam nesciunt. Cumque nulla perferendis, tenetur soluta quae facilis, ea nobis quidem, placeat voluptatem laborum iusto earum. Recusandae alias eligendi incidunt aspernatur repudiandae voluptates eaque atque ipsa debitis! Officia, soluta blanditiis officiis molestiae perferendis neque, temporibus excepturi, molestias necessitatibus dolore modi eaque hic animi accusantium accusamus eveniet! Velit, molestiae nesciunt reiciendis placeat, beatae minus corrupti fuga vitae nostrum necessitatibus blanditiis cumque at ducimus temporibus ullam. Totam, omnis deserunt.</p>\n",
      "<span class=\"historia\">Lorem, ipsum dolor sit amet consectetur adipisicing elit. Esse vitae deleniti hic a dolor tempora, autem magnam inventore quo doloribus illo ducimus eligendi facere nisi ratione aperiam deserunt aut minima.</span>\n",
      "<p class=\"historia\" data-minumero=\"124124\" id=\"otros-integrantes\">Los Avengers lo conforman otros superhéroes como\n",
      "            <a class=\"avenger\" href=\"https://es.wikipedia.org/wiki/Spider-Man\" id=\"link4\">Spiderman</a>,\n",
      "            <a class=\"avenger\" href=\"https://es.wikipedia.org/wiki/Ant-Man_and_the_Wasp\" id=\"link5\">Antman &amp; Wasp</a> y\n",
      "            <a class=\"avenger\" href=\"https://es.wikipedia.org/wiki/Ojo_de_Halc%C3%B3n\" id=\"link6\">Hawk Eye</a>;\n",
      "        y todos ellos también están de acuerdo en hacer el bien...sin mirar a quién.</p>\n",
      "</body>\n",
      "</html>>\n"
     ]
    }
   ],
   "source": [
    "#Le doy la estructura de html \n",
    "print(dom.prettify) "
   ]
  },
  {
   "cell_type": "code",
   "execution_count": 14,
   "id": "3efba730",
   "metadata": {},
   "outputs": [
    {
     "name": "stdout",
     "output_type": "stream",
     "text": [
      "Ironman\n"
     ]
    }
   ],
   "source": [
    "primer_link = dom.a\n",
    "print(primer_link.string)"
   ]
  },
  {
   "cell_type": "code",
   "execution_count": 15,
   "id": "137b2b29",
   "metadata": {},
   "outputs": [
    {
     "name": "stdout",
     "output_type": "stream",
     "text": [
      "Ironman\n"
     ]
    }
   ],
   "source": [
    "#Otra manera de encontrar\n",
    "\n",
    "primer_link2 = dom.find('a')\n",
    "print(primer_link2.string)"
   ]
  },
  {
   "cell_type": "code",
   "execution_count": 20,
   "id": "7b3e13bd",
   "metadata": {},
   "outputs": [
    {
     "name": "stdout",
     "output_type": "stream",
     "text": [
      "Ironman\n",
      "Thor\n",
      "Hulk\n",
      "Spiderman\n",
      "Antman & Wasp\n",
      "Hawk Eye\n"
     ]
    }
   ],
   "source": [
    "# Encontrar todas\n",
    "\n",
    "todos_los_links = dom.find_all('a')\n",
    "for link in todos_los_links:\n",
    "    print(link.string)"
   ]
  },
  {
   "cell_type": "code",
   "execution_count": 21,
   "id": "4ba4af97",
   "metadata": {},
   "outputs": [
    {
     "name": "stdout",
     "output_type": "stream",
     "text": [
      "['avenger']\n"
     ]
    }
   ],
   "source": [
    "#Que clase corresponde\n",
    "print(primer_link2['class'])"
   ]
  },
  {
   "cell_type": "code",
   "execution_count": 22,
   "id": "738a4e39",
   "metadata": {},
   "outputs": [
    {
     "name": "stdout",
     "output_type": "stream",
     "text": [
      "https://es.wikipedia.org/wiki/Iron_Man\n"
     ]
    }
   ],
   "source": [
    "#Capturar el hipervinculo\n",
    "print(primer_link2['href'])"
   ]
  },
  {
   "cell_type": "code",
   "execution_count": 26,
   "id": "6cbe535f",
   "metadata": {},
   "outputs": [
    {
     "name": "stdout",
     "output_type": "stream",
     "text": [
      "Los Avengers lo conforman otros superhéroes como\n",
      "            Spiderman,\n",
      "            Antman & Wasp y\n",
      "            Hawk Eye;\n",
      "        y todos ellos también están de acuerdo en hacer el bien...sin mirar a quién.\n"
     ]
    }
   ],
   "source": [
    "#Buscar un parrafo particular\n",
    "\n",
    "parrafo = dom.find(id = 'otros-integrantes')\n",
    "print(parrafo.text)\n",
    "\n"
   ]
  },
  {
   "cell_type": "code",
   "execution_count": 29,
   "id": "997be7ac",
   "metadata": {},
   "outputs": [
    {
     "data": {
      "text/plain": [
       "'https://es.wikipedia.org/wiki/Spider-Man'"
      ]
     },
     "execution_count": 29,
     "metadata": {},
     "output_type": "execute_result"
    }
   ],
   "source": [
    "#De ese parrafo, capturar los 3 links\n",
    "\n",
    "links = parrafo.find_all('a')\n",
    "links[0]['href'] #La primer etiqueta A, y de esa el href"
   ]
  },
  {
   "cell_type": "code",
   "execution_count": 32,
   "id": "aea80d3e",
   "metadata": {},
   "outputs": [
    {
     "name": "stdout",
     "output_type": "stream",
     "text": [
      "[<p class=\"historia\">Lorem ipsum dolor, sit amet consectetur adipisicing elit. Molestias nulla voluptatem dolorum in quos quidem voluptates eos praesentium ullam totam!</p>, <p class=\"historia\" id=\"historia_larga\">Lorem ipsum dolor sit amet consectetur adipisicing elit. Adipisci, quis maiores animi, beatae assumenda autem nihil dolore maxime consequuntur, corrupti reiciendis exercitationem. Rerum aspernatur et fuga ipsa illo ratione excepturi laudantium, consequatur magnam nesciunt. Cumque nulla perferendis, tenetur soluta quae facilis, ea nobis quidem, placeat voluptatem laborum iusto earum. Recusandae alias eligendi incidunt aspernatur repudiandae voluptates eaque atque ipsa debitis! Officia, soluta blanditiis officiis molestiae perferendis neque, temporibus excepturi, molestias necessitatibus dolore modi eaque hic animi accusantium accusamus eveniet! Velit, molestiae nesciunt reiciendis placeat, beatae minus corrupti fuga vitae nostrum necessitatibus blanditiis cumque at ducimus temporibus ullam. Totam, omnis deserunt.</p>, <p class=\"historia\" data-minumero=\"124124\" id=\"otros-integrantes\">Los Avengers lo conforman otros superhéroes como\n",
      "            <a class=\"avenger\" href=\"https://es.wikipedia.org/wiki/Spider-Man\" id=\"link4\">Spiderman</a>,\n",
      "            <a class=\"avenger\" href=\"https://es.wikipedia.org/wiki/Ant-Man_and_the_Wasp\" id=\"link5\">Antman &amp; Wasp</a> y\n",
      "            <a class=\"avenger\" href=\"https://es.wikipedia.org/wiki/Ojo_de_Halc%C3%B3n\" id=\"link6\">Hawk Eye</a>;\n",
      "        y todos ellos también están de acuerdo en hacer el bien...sin mirar a quién.</p>]\n"
     ]
    }
   ],
   "source": [
    "parrafo_historia = dom.find_all('p',class_='historia') #el _ es por que class es reservada de python y yo quiero que busque una\n",
    "print(parrafo_historia)\n"
   ]
  },
  {
   "cell_type": "code",
   "execution_count": 33,
   "id": "6c570b4d",
   "metadata": {},
   "outputs": [
    {
     "name": "stdout",
     "output_type": "stream",
     "text": [
      "[<p class=\"historia\">Lorem ipsum dolor, sit amet consectetur adipisicing elit. Molestias nulla voluptatem dolorum in quos quidem voluptates eos praesentium ullam totam!</p>, <p class=\"historia\" id=\"historia_larga\">Lorem ipsum dolor sit amet consectetur adipisicing elit. Adipisci, quis maiores animi, beatae assumenda autem nihil dolore maxime consequuntur, corrupti reiciendis exercitationem. Rerum aspernatur et fuga ipsa illo ratione excepturi laudantium, consequatur magnam nesciunt. Cumque nulla perferendis, tenetur soluta quae facilis, ea nobis quidem, placeat voluptatem laborum iusto earum. Recusandae alias eligendi incidunt aspernatur repudiandae voluptates eaque atque ipsa debitis! Officia, soluta blanditiis officiis molestiae perferendis neque, temporibus excepturi, molestias necessitatibus dolore modi eaque hic animi accusantium accusamus eveniet! Velit, molestiae nesciunt reiciendis placeat, beatae minus corrupti fuga vitae nostrum necessitatibus blanditiis cumque at ducimus temporibus ullam. Totam, omnis deserunt.</p>, <p class=\"historia\" data-minumero=\"124124\" id=\"otros-integrantes\">Los Avengers lo conforman otros superhéroes como\n",
      "            <a class=\"avenger\" href=\"https://es.wikipedia.org/wiki/Spider-Man\" id=\"link4\">Spiderman</a>,\n",
      "            <a class=\"avenger\" href=\"https://es.wikipedia.org/wiki/Ant-Man_and_the_Wasp\" id=\"link5\">Antman &amp; Wasp</a> y\n",
      "            <a class=\"avenger\" href=\"https://es.wikipedia.org/wiki/Ojo_de_Halc%C3%B3n\" id=\"link6\">Hawk Eye</a>;\n",
      "        y todos ellos también están de acuerdo en hacer el bien...sin mirar a quién.</p>]\n"
     ]
    }
   ],
   "source": [
    "parrafo_historia2 = dom.find_all('p', attrs={'class': 'historia'})\n",
    "print(parrafo_historia2)"
   ]
  },
  {
   "cell_type": "code",
   "execution_count": 34,
   "id": "b9bf21e1",
   "metadata": {},
   "outputs": [
    {
     "name": "stdout",
     "output_type": "stream",
     "text": [
      "<p class=\"historia\" data-minumero=\"124124\" id=\"otros-integrantes\">Los Avengers lo conforman otros superhéroes como\n",
      "            <a class=\"avenger\" href=\"https://es.wikipedia.org/wiki/Spider-Man\" id=\"link4\">Spiderman</a>,\n",
      "            <a class=\"avenger\" href=\"https://es.wikipedia.org/wiki/Ant-Man_and_the_Wasp\" id=\"link5\">Antman &amp; Wasp</a> y\n",
      "            <a class=\"avenger\" href=\"https://es.wikipedia.org/wiki/Ojo_de_Halc%C3%B3n\" id=\"link6\">Hawk Eye</a>;\n",
      "        y todos ellos también están de acuerdo en hacer el bien...sin mirar a quién.</p>\n"
     ]
    }
   ],
   "source": [
    "historia = dom.find(attrs={'data-minumero': '124124'})\n",
    "print(historia)"
   ]
  },
  {
   "cell_type": "markdown",
   "id": "ef9e2628",
   "metadata": {},
   "source": [
    "# Otro ejemplo"
   ]
  },
  {
   "cell_type": "code",
   "execution_count": 37,
   "id": "9dca3e15",
   "metadata": {},
   "outputs": [],
   "source": [
    "from bs4 import BeautifulSoup as BS\n",
    "import requests "
   ]
  },
  {
   "cell_type": "code",
   "execution_count": 45,
   "id": "26fa2bf6",
   "metadata": {},
   "outputs": [],
   "source": [
    "url = 'https://www.cuspide.com/cienmasvendidos'"
   ]
  },
  {
   "cell_type": "code",
   "execution_count": 46,
   "id": "723ebd6b",
   "metadata": {},
   "outputs": [],
   "source": [
    "respuesta = requests.get(url)\n",
    "respuesta.encoding = 'utf-8'"
   ]
  },
  {
   "cell_type": "code",
   "execution_count": 48,
   "id": "8775c1b3",
   "metadata": {},
   "outputs": [],
   "source": [
    "html = respuesta.text\n"
   ]
  },
  {
   "cell_type": "code",
   "execution_count": 51,
   "id": "9dd907ec",
   "metadata": {},
   "outputs": [],
   "source": [
    "#ahora despues de leerlo lo paso con BS\n",
    "\n",
    "dom = BS(html, features='html.parser')"
   ]
  },
  {
   "cell_type": "code",
   "execution_count": 66,
   "id": "04fe66c1",
   "metadata": {},
   "outputs": [
    {
     "data": {
      "text/plain": [
       "'De Mayor Quiero Ser ... Feliz'"
      ]
     },
     "execution_count": 66,
     "metadata": {},
     "output_type": "execute_result"
    }
   ],
   "source": [
    "libros = dom.find_all('article')\n",
    "libros[0].figure.div.a['title'] #puedo entrar uno por uno como atributo "
   ]
  },
  {
   "cell_type": "code",
   "execution_count": 73,
   "id": "cc1606a4",
   "metadata": {
    "code_folding": []
   },
   "outputs": [
    {
     "name": "stdout",
     "output_type": "stream",
     "text": [
      "1 De Mayor Quiero Ser ... Feliz\n",
      "2 Una Familia Anormal\n",
      "3 Perfectos Mentirosos\n",
      "4 Las Señoritas\n",
      "5 La Batalla Del Futuro\n",
      "6 La Vida Invisible De Addie Larue\n",
      "7 Yo Recordare Por Ustedes\n",
      "8 Matilde Debe Morir\n",
      "9 Una Luz Fuerte Y Brillante\n",
      "10 La Tia Cosima\n",
      "11 Todo Este Tiempo\n",
      "12 Heist\n",
      "13 Invictor Y Mayo En Busca De La Esmeralda\n",
      "14 Un Cuento Perfecto\n",
      "15 El Funcionamiento General Del Mundo\n",
      "16 Simplemente Charli\n",
      "17 Despues\n",
      "18 Lore\n",
      "19 El Libro De Los Peque/Os Grandes Artistas\n",
      "20 Rota Se Camina Igual\n",
      "21 Los Compas Perdidos En El Espacio\n",
      "22 Hecha De Estrellas\n",
      "23 Asesino De Brujas  ( Libro 2 Saga Asesino De Brujas )\n",
      "24 1. Anne , La De Tejados Verdes\n",
      "25 1. Harry Potter Y La Piedra Filosofal ( Bolsillo )\n",
      "26 100 Preguntas Y Respuestas Sobre Crianza Respetuosa\n",
      "27 Catedrales\n",
      "28 Las Gratitudes\n",
      "29 ( Mal ) Educadas\n",
      "30 Los Cuatro Acuerdos\n",
      "31 Heartstopper 2\n",
      "32 Ariadna\n",
      "33 1. El Ladron Del Rayo ( Percy Jackson Y Los Dioses Del Olimpo )\n",
      "34 Populismo Jesuita\n",
      "35 Still With You\n",
      "36 Las Malas\n",
      "37 Una Familia Anormal\n",
      "38 Una Familia Anormal\n",
      "39 Heartstopper 3\n",
      "40 De Pronto Oigo La Voz Del Agua\n",
      "41 A Traves De Mi Ventana\n",
      "42 En El Limbo\n",
      "43 Caos\n",
      "44 Cometierra\n",
      "45 Nadar De Noche\n",
      "46 Una Familia Anormal\n",
      "47 Volver A Vivir\n",
      "48 Rojava\n",
      "49 De Animales A Dioses\n",
      "50 El Manuscrito\n",
      "51 La Moneda En El Aire\n",
      "52 Padre Rico , Padre Pobre ( 20 Años )\n",
      "53 Farmaco\n",
      "54 Yoga\n",
      "55 Cinder  ( Libro 1 De La Saga Cronicas Lunares )\n",
      "56 Hay Momentos Que Deberian Ser Eternos\n",
      "57 Nosotros , Los Caserta\n",
      "58 Breve Historia Del Antipopulismo\n",
      "59 Las Cosas Que Perdimos En El Fuego\n",
      "60 Borges Y Yo\n",
      "61 Una Historia Argentina En Tiempo Real\n",
      "62 El Principito  (Bolsillo)\n",
      "63 Asylum\n",
      "64 La Vaca Se Empaca\n",
      "65 La Batalla Final De Cristina\n",
      "66 33 Razones Para Volver A Verte  ( Libro 1 Serie Volver A Ti )\n",
      "67 El Camion De Bomberos\n",
      "68 3. Harry Potter Y El Prisionero De Azkaban ( Bolsillo )\n",
      "69 La Anomalia\n",
      "70 Ser Humanos\n",
      "71 Cuentos Cortos Para Soñar\n",
      "72 Burundi : De Largos Misterios Y Lineas Perdidas\n",
      "73 Juga Con Lyna\n",
      "74 Una Abuela Anormal\n",
      "75 Susurros De Belleza\n",
      "76 El Mundo De Lyna\n",
      "77 Enciclopedia De Los Cuentos Clasicos\n",
      "78 2. El Mar De Los Monstruos ( Percy Jackson Y Los Dioses Del Olimpo )\n",
      "79 2. Harry Potter Y La Camara Secreta ( Bolsillo )\n",
      "80 Miserias Hipermodernas\n",
      "81 Criar Con Empatia\n",
      "82 2. Anne, La De Tejados Verdes : Anne, La De Avonlea\n",
      "83 Seras\n",
      "84 La Vida Es Una Mision Secreta\n",
      "85 La Mansion\n",
      "86 Secretos Al Alba\n",
      "87 Los Llanos\n"
     ]
    }
   ],
   "source": [
    "#for libro in libros:\n",
    "#    print(libro.figure.div.a['title'])\n",
    "\n",
    "for i in range(len(libros)):\n",
    "    print(i+1, libros[i].figure.div.a['title'])"
   ]
  },
  {
   "cell_type": "code",
   "execution_count": 74,
   "id": "57d653a9",
   "metadata": {},
   "outputs": [],
   "source": [
    "# Scrapear Ambito Financiero"
   ]
  },
  {
   "cell_type": "code",
   "execution_count": 91,
   "id": "4ad1d5a6",
   "metadata": {},
   "outputs": [],
   "source": [
    "url = 'https://www.ambito.com'\n",
    "\n",
    "respuesta = requests.get(url)\n",
    "respuesta.ecoding= 'utf-8'\n",
    "html = respuesta.text"
   ]
  },
  {
   "cell_type": "code",
   "execution_count": 92,
   "id": "a408b7c4",
   "metadata": {},
   "outputs": [],
   "source": [
    "dom = BS(html, features='html.parser')\n"
   ]
  },
  {
   "cell_type": "code",
   "execution_count": 95,
   "id": "7ee03697",
   "metadata": {},
   "outputs": [],
   "source": [
    "titulares = dom.find_all(class_='title')"
   ]
  },
  {
   "cell_type": "code",
   "execution_count": 96,
   "id": "0dff3a3e",
   "metadata": {},
   "outputs": [],
   "source": [
    "tabla = [['N:', 'Titulo', 'Link']]"
   ]
  },
  {
   "cell_type": "code",
   "execution_count": 97,
   "id": "44b8ae0d",
   "metadata": {},
   "outputs": [
    {
     "data": {
      "text/plain": [
       "' Dólar y blue: ¿por qué el mercado mira la brecha?'"
      ]
     },
     "execution_count": 97,
     "metadata": {},
     "output_type": "execute_result"
    }
   ],
   "source": [
    "titulares[2].text"
   ]
  },
  {
   "cell_type": "code",
   "execution_count": 101,
   "id": "f01619e1",
   "metadata": {},
   "outputs": [],
   "source": [
    "contador =1\n",
    "for titular in titulares:\n",
    "    titulo = titular.text\n",
    "    link = titular.a['href']\n",
    "    contador +=1\n",
    "    fila =[contador, titulo, link]\n",
    "    tabla.append(fila)"
   ]
  },
  {
   "cell_type": "code",
   "execution_count": 104,
   "id": "b34f624c",
   "metadata": {},
   "outputs": [],
   "source": [
    "import csv\n",
    "with open('noticias.csv','w', newline='', ) as file:\n",
    "    salida = csv.writer(file)\n",
    "    salida.writerows(tabla)"
   ]
  },
  {
   "cell_type": "code",
   "execution_count": null,
   "id": "00fef459",
   "metadata": {},
   "outputs": [],
   "source": []
  }
 ],
 "metadata": {
  "kernelspec": {
   "display_name": "Python 3",
   "language": "python",
   "name": "python3"
  },
  "language_info": {
   "codemirror_mode": {
    "name": "ipython",
    "version": 3
   },
   "file_extension": ".py",
   "mimetype": "text/x-python",
   "name": "python",
   "nbconvert_exporter": "python",
   "pygments_lexer": "ipython3",
   "version": "3.8.5"
  },
  "toc": {
   "base_numbering": 1,
   "nav_menu": {},
   "number_sections": true,
   "sideBar": true,
   "skip_h1_title": false,
   "title_cell": "Table of Contents",
   "title_sidebar": "Contents",
   "toc_cell": false,
   "toc_position": {},
   "toc_section_display": true,
   "toc_window_display": false
  },
  "varInspector": {
   "cols": {
    "lenName": 16,
    "lenType": 16,
    "lenVar": 40
   },
   "kernels_config": {
    "python": {
     "delete_cmd_postfix": "",
     "delete_cmd_prefix": "del ",
     "library": "var_list.py",
     "varRefreshCmd": "print(var_dic_list())"
    },
    "r": {
     "delete_cmd_postfix": ") ",
     "delete_cmd_prefix": "rm(",
     "library": "var_list.r",
     "varRefreshCmd": "cat(var_dic_list()) "
    }
   },
   "types_to_exclude": [
    "module",
    "function",
    "builtin_function_or_method",
    "instance",
    "_Feature"
   ],
   "window_display": false
  }
 },
 "nbformat": 4,
 "nbformat_minor": 5
}
