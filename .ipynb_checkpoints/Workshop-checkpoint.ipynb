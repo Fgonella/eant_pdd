{
 "cells": [
  {
   "cell_type": "markdown",
   "id": "039a7696",
   "metadata": {},
   "source": [
    "# Workshop"
   ]
  },
  {
   "cell_type": "code",
   "execution_count": 1,
   "id": "4adca25e",
   "metadata": {},
   "outputs": [],
   "source": [
    "import requests \n",
    "from selenium import webdriver\n",
    "from time import sleep\n",
    "from bs4 import BeautifulSoup as BS\n",
    "\n",
    "# Parte Selenium\n",
    "# Parte BS\n",
    "# Parte SQL\n"
   ]
  },
  {
   "cell_type": "code",
   "execution_count": 2,
   "id": "b240b6fc",
   "metadata": {},
   "outputs": [],
   "source": [
    "tabla = ['ID', 'Descripcion', 'Marca','Precio Publicado ($)', 'Promocion','Precio lista' ]\n",
    "url= 'https://www.carrefour.com.ar/Bebidas/Cervezas'\n"
   ]
  },
  {
   "cell_type": "code",
   "execution_count": 5,
   "id": "639492b0",
   "metadata": {},
   "outputs": [
    {
     "name": "stdout",
     "output_type": "stream",
     "text": [
      "1681\n",
      "3129\n",
      "1681\n",
      "4550\n",
      "7766\n",
      "10966\n",
      "14166\n",
      "17366\n",
      "17700\n",
      "17669\n",
      "llegamos al final\n"
     ]
    }
   ],
   "source": [
    "# configuramos las opciones del navegador\n",
    "\n",
    "option = webdriver.ChromeOptions()\n",
    "option.add_argument('--incognito')\n",
    "\n",
    "#Configuro el driver para usarlo \n",
    "driver = webdriver.Chrome(executable_path='chromedriver', options=option)\n",
    "driver.get(url)\n",
    "\n",
    "sleep(3)\n",
    "\n",
    "#Scrip para el botn\n",
    "\n",
    "script_js = \"\"\"\n",
    "    \n",
    "    let boton = document.querySelector('[class=\"vtex-button bw1 ba fw5 v-mid relative pa0 lh-solid br2 min-h-small t-action--small bg-action-primary b--action-primary c-on-action-primary hover-bg-action-primary hover-b--action-primary hover-c-on-action-primary pointer \"]')\n",
    "    if (boton){\n",
    "         boton.click()\n",
    "      }\n",
    "    else {\n",
    "            return \"No existe\"\n",
    "    }\n",
    "      \n",
    "\"\"\"\n",
    "\n",
    "script_scroll_js = \"\"\"\n",
    "   let fin_pantalla = document.body.scrollHeight\n",
    "   window.scrollTo(0, fin_pantalla)\n",
    "   return fin_pantalla\n",
    "   \n",
    "\"\"\"\n",
    "script_scroll_js_2 = \"\"\"\n",
    "    fondoDePantalla = document.body.scrollHeight      \n",
    "    for (let i = 0; i < fondoDePantalla; i += 50){\n",
    "          setInterval(function(){window.scrollTo(0, i)}, 1000);\n",
    "          }\n",
    "\"\"\"\n",
    "\n",
    "\n",
    "while driver.execute_script(script_js) != \"No existe\": \n",
    "    sleep(5)\n",
    "\n",
    "\n",
    "pos_actual = 0\n",
    "pos_siguiente = driver.execute_script(script_scroll_js)\n",
    "sleep(3)\n",
    "\n",
    "while pos_actual != pos_siguiente:\n",
    "    driver.execute_script(script_js)\n",
    "    pos_actual = pos_siguiente\n",
    "    pos_siguiente = driver.execute_script(script_scroll_js)\n",
    "    sleep(3)\n",
    "    print(pos_actual)\n",
    "    \n",
    "print('llegamos al final')\n",
    "\n",
    "\n",
    "sleep(2)\n",
    "\n",
    "#Capturo el navegador para despues sacar la informacion\n",
    "\n",
    "#html = driver.execute_script('return document.documentElement.outerHTML')\n",
    "#driver.quit() #Cierra el navegador\n",
    "\n",
    "\n",
    "\n"
   ]
  },
  {
   "cell_type": "code",
   "execution_count": 19,
   "id": "8240527c",
   "metadata": {},
   "outputs": [],
   "source": [
    "html = driver.execute_script('return document.documentElement.outerHTML')\n",
    "\n",
    "dom = BS(html, features='html.parser')\n"
   ]
  },
  {
   "cell_type": "code",
   "execution_count": 42,
   "id": "8631efa6",
   "metadata": {},
   "outputs": [
    {
     "data": {
      "text/plain": [
       "'https://www.carrefour.com.ar/cerveza-blanca-stella-artois-lata-269-cc-x-10-uni/p'"
      ]
     },
     "execution_count": 42,
     "metadata": {},
     "output_type": "execute_result"
    }
   ],
   "source": [
    "#sacamos el hipervinculo\n",
    "link = dom.find_all(class_='vtex-product-summary-2-x-container vtex-product-summary-2-x-container--contentProduct vtex-product-summary-2-x-containerNormal vtex-product-summary-2-x-containerNormal--contentProduct overflow-hidden br3 h-100 w-100 flex flex-column justify-between center tc')\n",
    "link[0].a['href']\n",
    "\n",
    "nuevo_link ='https://www.carrefour.com.ar'+ link[0].a['href']\n",
    "nuevo_link"
   ]
  },
  {
   "cell_type": "code",
   "execution_count": 20,
   "id": "ba174fbf",
   "metadata": {},
   "outputs": [
    {
     "data": {
      "text/plain": [
       "'Cerveza rubia Andes Origen 6 x 473 cc. '"
      ]
     },
     "execution_count": 20,
     "metadata": {},
     "output_type": "execute_result"
    }
   ],
   "source": [
    "descripcion = dom.find_all(class_=\"vtex-product-summary-2-x-nameContainer flex items-start justify-center pv6\")\n",
    "descripcion[1].text\n",
    "\n"
   ]
  },
  {
   "cell_type": "code",
   "execution_count": 21,
   "id": "cd582a7b",
   "metadata": {},
   "outputs": [
    {
     "data": {
      "text/plain": [
       "'452,40'"
      ]
     },
     "execution_count": 21,
     "metadata": {},
     "output_type": "execute_result"
    }
   ],
   "source": [
    "precio = dom.find_all(class_='lyracons-carrefourarg-product-price-1-x-currencyInteger')\n",
    "decimal = dom.find_all(class_=\"lyracons-carrefourarg-product-price-1-x-currencyFraction\")\n",
    "str(precio[0].text) +','+ str(decimal[0].text)"
   ]
  },
  {
   "cell_type": "code",
   "execution_count": 9,
   "id": "59708279",
   "metadata": {},
   "outputs": [
    {
     "ename": "NameError",
     "evalue": "name 'precio_oferta' is not defined",
     "output_type": "error",
     "traceback": [
      "\u001b[0;31m---------------------------------------------------------------------------\u001b[0m",
      "\u001b[0;31mNameError\u001b[0m                                 Traceback (most recent call last)",
      "\u001b[0;32m<ipython-input-9-a0f9de86092b>\u001b[0m in \u001b[0;36m<module>\u001b[0;34m\u001b[0m\n\u001b[0;32m----> 1\u001b[0;31m \u001b[0mprecio_oferta\u001b[0m\u001b[0;34m\u001b[0m\u001b[0;34m\u001b[0m\u001b[0m\n\u001b[0m\u001b[1;32m      2\u001b[0m \u001b[0mdecimal_oferta\u001b[0m\u001b[0;34m\u001b[0m\u001b[0;34m\u001b[0m\u001b[0m\n",
      "\u001b[0;31mNameError\u001b[0m: name 'precio_oferta' is not defined"
     ]
    }
   ],
   "source": [
    "precio_oferta\n",
    "decimal_oferta"
   ]
  },
  {
   "cell_type": "code",
   "execution_count": 22,
   "id": "1015d794",
   "metadata": {},
   "outputs": [
    {
     "name": "stdout",
     "output_type": "stream",
     "text": [
      "Cerveza blanca Stella Artois lata 269 cc. x 10 uni \n",
      "Cerveza rubia Andes Origen 6 x 473 cc. \n",
      "Cerveza Stella Artois blanca lata 6 uni x 473 cc. \n",
      "Cerveza rubia Andes IPA 6 X 473 cc. \n",
      "Cerveza rubia Corona 330 cc. \n",
      "Cerveza roja Andes Origen 6 x 473 cc. \n",
      "Cerveza rubia Corona 710 cc. \n",
      "Cerveza negra Quilmes stout 6 x 473 cc. \n",
      "Cerveza rubia 1890 6 x 473 cc. \n",
      "Cerveza rubia Quilmes 473 cc. \n",
      "Cerveza blanca Amstel lager lata 473 cc. \n",
      "Cerveza rubia Heineken 473 cc. \n",
      "Cerveza rubia Imperial golden 473 cc. \n",
      "Cerveza roja Andes Origen retornable 340 cc. \n",
      "Cerveza roja Patagonia amber lager 6 x 473 cc. \n",
      "Cerveza rubia Schneider 473 cc. \n",
      "Cerveza rubia Stella Artois 975 cc. \n",
      "Cerveza rubia Andes origen ipa 340 cc. \n",
      "Cerveza rubia Quilmes clásica 1 l. \n",
      "Cerveza rubia Patagonia IPA 6 x 473 cc. \n",
      "Cerveza roja Patagonia amber lager 730 cc. \n",
      "Cerveza negra Stella Artois noire 473 cc. 6 u. \n",
      "Cerveza rubia Heineken 710 cc. \n",
      "Cerveza rubia Imperial 473 cc. \n",
      "Cerveza rubia Patagonia 24.7 IPA con sauco 730 cc. \n",
      "Cerveza rubia Corona 269 cc. 10 u. \n",
      "Cerveza rubia Heineken Retornable 1 l. \n",
      "Cerveza rubia Andes Origen 1 l. \n",
      "Cerveza rubia Brahma 340 cc. \n",
      "Cerveza negra Quilmes stout 1 l. \n",
      "Cerveza rubia Patagonia bohemian 6 u. x 473 cc. \n",
      "Cerveza blanca Grolsch retornable 473 cc. \n",
      "Cerveza rubia Brahma 473 cc. \n",
      "Cerveza rubia Quilmes clásica 340 cc. \n",
      "Cerveza negra Andes Origen 6 x 473 cc. \n",
      "Cerveza rubia Patagonia hoppy lager 730 cc. \n",
      "Cerveza rubia Heineken 330 cc. \n",
      "Cerveza rubia Schneider 710 cc. \n",
      "Cerveza rubia Imperial lager 710 cc. \n",
      "Cerveza roja amber lager Imperial 473 cc. \n",
      "Cerveza rubia Mecklenburger pilsener 330 cc. \n",
      "Cerveza rubia bajo cero Quilmes 1 l. \n",
      "Cerveza roja Andes Origen 1 l. \n",
      "Cerveza rubia Temple ipa 473 cc. 6 u. \n",
      "Cerveza rubia Andes IPA retornable 1 l. \n",
      "Cerveza negra Schneider 473 cc. \n",
      "Cerveza blanca Amstel lager botella 1 l. \n",
      "Cerveza negra Mecklenburger premium dunkel 500 cc. \n",
      "Cerveza rubia Miller 710 cc. \n",
      "Cerveza negra bock Quilmes 473 cc. x 6 uni \n",
      "Cerveza rubia Grolsch retornable 925 cc. \n",
      "Cerveza rubia Miller 473 cc. \n",
      "Cerveza rubia ipa Imperial 1 l. \n",
      "Cerveza rubia Patagonia bohemian 730 cc. \n",
      "Cerveza rubia Imperial Apa 473 cc. \n",
      "Cerveza IPA Mecklenburger 500 cc. \n",
      "Cerveza roja Schneider 473 cc. \n",
      "Cerveza rubia Budweiser 710 cc. \n",
      "Cerveza rubia Ipa Imperial 473 cc. \n",
      "Cerveza rubia Patagonia kune 6 u. x 473 cc. \n",
      "Cerveza rubia Sol 473 cc. \n",
      "Cerveza rubia Warsteiner retornable 1 l. \n",
      "Cerveza rubia Sol 330 cc. \n",
      "Cerveza roja Quilmes red lager 6 u. x 473 cc. \n",
      "Cerveza roja Quilmes red lager 1 l. \n",
      "Cerveza blanca Miller porrón 330 cc. \n",
      "Cerveza Imperial amber lager 710 cc. \n",
      "Cerveza negra Stella Artois 975 cc. \n",
      "Cerveza rubia Patagonia kune 730 cc. \n",
      "Cerveza negra Quilmes bock 1 l. \n",
      "Cerveza rubia 1890 1 l. \n",
      "Cerveza rubia Schneider 1 l. \n",
      "Cerveza rubia Patagonia weisse 6 uni x 473 cc. \n",
      "Cerveza negra Andes Origen 1 l. \n",
      "Cerveza rubia Budweiser retornable 340 cc. \n",
      "Cerveza rubia Miller 1 l. \n",
      "Cerveza rubia Temple roja 473 cc. 6 u. \n",
      "Cerveza rubia Warsteiner 473 cc. \n",
      "Cerveza roja amber lager Imperial 1 l. \n",
      "Cerveza sin alcohol Mecklenburger 500 cc. \n",
      "Cerveza rubia Blue Moon 355 cc. \n",
      "Cerveza blanca Stella Artois botella 710 cc. \n",
      "Cerveza de trigo Mecklenburger weibbier 500 cc. \n",
      "Cerveza roja Rabieta honey 473 cc. \n",
      "Cerveza pilsener Mecklenburger 500 cc. \n",
      "Cerveza rubia Palermo 1 l. \n",
      "Cerveza dorada Brahma botella 710 cc. \n",
      "Cerveza roja Rabieta irish ale 473 cc. \n",
      "Cerveza rubia Rabieta golden ale 473 cc. \n",
      "Cerveza ipa Pampa Brewing lata 473 cc. \n",
      "Cerveza roja Rabieta Irish molly otoole 710 cc. \n",
      "Cerveza roja Rabieta ipa 473 cc. \n",
      "Cerveza red honey Rabieta botella 710 cc. \n",
      "Cerveza negra Peñón del Águila 473 cc. \n",
      "Cerveza rubia Peñón del Águila mexican lager 473 cc. \n",
      "Cerveza rubia Rabieta ipa 473 cc. \n",
      "Cerveza rubia Rabieta golden ale 710 cc. \n",
      "Cerveza rubia Peñón del Águila hefeweizen 473 cc. \n",
      "Cerveza negra Peñón del Águila schwarzbier 473 cc. \n",
      "Cerveza Rabieta Helles Munich lata 473 cc. \n",
      "Cerveza rubia Peñón del águila 473 cc. \n",
      "Cerveza rubia Peñón del Águila honigbier 473 cc. \n",
      "Cerveza golden ale Pampa brewing lata 473 cc. \n",
      "Cerveza rubia Peñón del Águila waldbier 473 cc. \n",
      "Cerveza Goose Island lata 6 uni x 473 cc. \n",
      "Cerveza honey Pampa brewing lata 473 cc. \n",
      "Cerveza de arándano Peñon del águila 473 cc. \n",
      "Cerveza roja Rabieta ipa 710 cc. \n",
      "Cerveza rubia Peñón del Águila maracuyá sour 473 cc. \n",
      "Ginger beer Britvic 200 cc. \n",
      "Cerveza ipa Chachingo lata 473 cc. \n",
      "Cerveza rubia Rabieta american Ipa 710 cc. \n",
      "Cerveza amber ale Pampa Brewing lata 473 cc. \n",
      "Cerveza artesanal IPA Antares lata 473 cc. \n",
      "Cerveza apa Rabieta botella 710 cc. \n",
      "Cerveza pale ale Chachingo lata 473 cc. \n",
      "Cerveza artesanal kolsch Antares lata 473 cc. \n",
      "Cerveza Chachingo amber lata 473 cc. \n",
      "Cerveza artesanal honey Antares botella 500 cc. \n",
      "Cerveza artesanal scotch Antares botella 500 cc. \n",
      "Cerveza artesanal kirsch Antares botella 500 cc. \n",
      "Cerveza choco cake stout Peñón del Águila lata 473 cc. \n",
      "Cerveza IPA session Peñón del Águila lata 473 cc. \n",
      "Cerveza american amber Peñón del Águila lata 473 cc. \n"
     ]
    }
   ],
   "source": [
    "for i in range(len(descripcion)):\n",
    "    print(descripcion[i].text)\n"
   ]
  },
  {
   "cell_type": "code",
   "execution_count": 23,
   "id": "0208a172",
   "metadata": {},
   "outputs": [
    {
     "data": {
      "text/plain": [
       "124"
      ]
     },
     "execution_count": 23,
     "metadata": {},
     "output_type": "execute_result"
    }
   ],
   "source": []
  },
  {
   "cell_type": "code",
   "execution_count": null,
   "id": "2d2d591e",
   "metadata": {},
   "outputs": [],
   "source": []
  }
 ],
 "metadata": {
  "kernelspec": {
   "display_name": "Python 3",
   "language": "python",
   "name": "python3"
  },
  "language_info": {
   "codemirror_mode": {
    "name": "ipython",
    "version": 3
   },
   "file_extension": ".py",
   "mimetype": "text/x-python",
   "name": "python",
   "nbconvert_exporter": "python",
   "pygments_lexer": "ipython3",
   "version": "3.8.5"
  },
  "toc": {
   "base_numbering": 1,
   "nav_menu": {},
   "number_sections": true,
   "sideBar": true,
   "skip_h1_title": false,
   "title_cell": "Table of Contents",
   "title_sidebar": "Contents",
   "toc_cell": false,
   "toc_position": {},
   "toc_section_display": true,
   "toc_window_display": false
  },
  "varInspector": {
   "cols": {
    "lenName": 16,
    "lenType": 16,
    "lenVar": 40
   },
   "kernels_config": {
    "python": {
     "delete_cmd_postfix": "",
     "delete_cmd_prefix": "del ",
     "library": "var_list.py",
     "varRefreshCmd": "print(var_dic_list())"
    },
    "r": {
     "delete_cmd_postfix": ") ",
     "delete_cmd_prefix": "rm(",
     "library": "var_list.r",
     "varRefreshCmd": "cat(var_dic_list()) "
    }
   },
   "position": {
    "height": "484px",
    "left": "1044px",
    "right": "20px",
    "top": "120px",
    "width": "350px"
   },
   "types_to_exclude": [
    "module",
    "function",
    "builtin_function_or_method",
    "instance",
    "_Feature"
   ],
   "window_display": false
  }
 },
 "nbformat": 4,
 "nbformat_minor": 5
}
